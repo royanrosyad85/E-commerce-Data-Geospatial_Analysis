{
  "cells": [
    {
      "cell_type": "markdown",
      "id": "52b1a686",
      "metadata": {
        "id": "52b1a686"
      },
      "source": [
        "# Proyek Analisis Data: Nama Dataset\n",
        "- Nama: Royan Sabila Rosyad Wahyudi\n",
        "- Email: royan230603@gmail.com\n",
        "- Id Dicoding: royanrosyad85"
      ]
    },
    {
      "cell_type": "markdown",
      "id": "b07a675d",
      "metadata": {
        "id": "b07a675d"
      },
      "source": [
        "## Menentukan Pertanyaan Bisnis"
      ]
    },
    {
      "cell_type": "markdown",
      "id": "f1c64b72",
      "metadata": {
        "id": "f1c64b72"
      },
      "source": [
        "1. Kategori produk apa dengan pesanan terbanyak dan terendah?.\n",
        "2. Wilayah mana dengan jumlah customer terbanyak?\n",
        "3. Kapan terakhir kali nya customer melakukan transaksi?\n",
        "4. Frekuensi seorang customer melakukan pembelian dalam beberapa bulan terakhir dianalisis\n",
        "5. Berapa Total pengeluaran customer dalam beberapa bulan terakhir?"
      ]
    },
    {
      "cell_type": "markdown",
      "id": "bfa1931d",
      "metadata": {
        "id": "bfa1931d"
      },
      "source": [
        "## Menyiapkan semua library yang dibutuhkan"
      ]
    },
    {
      "cell_type": "code",
      "execution_count": 10,
      "id": "ebad2cc5",
      "metadata": {},
      "outputs": [
        {
          "name": "stdout",
          "output_type": "stream",
          "text": [
            "Requirement already satisfied: unidecode in c:\\users\\royan\\appdata\\local\\programs\\python\\python311\\lib\\site-packages (1.3.8)\n"
          ]
        },
        {
          "name": "stderr",
          "output_type": "stream",
          "text": [
            "\n",
            "[notice] A new release of pip is available: 25.0 -> 25.0.1\n",
            "[notice] To update, run: python.exe -m pip install --upgrade pip\n"
          ]
        }
      ],
      "source": [
        "!pip install unidecode"
      ]
    },
    {
      "cell_type": "code",
      "execution_count": 11,
      "id": "85109e4a",
      "metadata": {
        "id": "85109e4a"
      },
      "outputs": [],
      "source": [
        "import numpy as np\n",
        "import pandas as pd\n",
        "import urllib\n",
        "import unidecode\n",
        "import matplotlib.pyplot as plt\n",
        "import matplotlib.image as mpimg\n",
        "import seaborn as sns\n",
        "from datetime import datetime"
      ]
    },
    {
      "cell_type": "markdown",
      "id": "eee2926b",
      "metadata": {
        "id": "eee2926b"
      },
      "source": [
        "## Data Wrangling\n",
        "\n",
        "Data Wrangling merupakan proses untuk mengubah dan merapikan data yang tidak terstruktur atau kotor agar menjadi dataset terstruktur dan siap dianalisis. Langkah-langkahnya mencakup Gathering (mengumpulkan data dari berbagai sumber), Assessing (menilai data untuk mengidentifikasi masalah), serta Cleaning (membersihkan data dari beragam kekurangan atau penyimpangan yang telah ditemukan)."
      ]
    },
    {
      "cell_type": "markdown",
      "id": "f759d37e",
      "metadata": {
        "id": "f759d37e"
      },
      "source": [
        "### Gathering Data\n",
        "\n",
        "Pada tahap ini data yang digunakan berasal dari [E-Commerce Public Dataset](https://www.kaggle.com/datasets/olistbr/brazilian-ecommerce/data). Berikut rincian dataset yang tersedia, yaitu:\n",
        "1. customers_dataset.csv\n",
        "2. geolocation_dataset.csv\n",
        "3. order_items_dataset.csv\n",
        "4. order_payments_dataset.csv\n",
        "5. order_reviews_dataset.csv\n",
        "6. orders_dataset.csv\n",
        "7. products_dataset.csv\n",
        "8. sellers_dataset.csv\n",
        "9. product_category_name_translation.csv\n",
        "\n",
        "Pada proejct ini data yang digunakan hanya Customers, Geolocation, Orders, Order Items, Products, dan Products Category"
      ]
    },
    {
      "cell_type": "code",
      "execution_count": 12,
      "id": "351cb56c",
      "metadata": {
        "colab": {
          "base_uri": "https://localhost:8080/",
          "height": 261
        },
        "id": "351cb56c",
        "outputId": "4c33744a-dc36-4e20-ddde-c6b4a09512e0"
      },
      "outputs": [
        {
          "data": {
            "text/html": [
              "<div>\n",
              "<style scoped>\n",
              "    .dataframe tbody tr th:only-of-type {\n",
              "        vertical-align: middle;\n",
              "    }\n",
              "\n",
              "    .dataframe tbody tr th {\n",
              "        vertical-align: top;\n",
              "    }\n",
              "\n",
              "    .dataframe thead th {\n",
              "        text-align: right;\n",
              "    }\n",
              "</style>\n",
              "<table border=\"1\" class=\"dataframe\">\n",
              "  <thead>\n",
              "    <tr style=\"text-align: right;\">\n",
              "      <th></th>\n",
              "      <th>customer_id</th>\n",
              "      <th>customer_unique_id</th>\n",
              "      <th>customer_zip_code_prefix</th>\n",
              "      <th>customer_city</th>\n",
              "      <th>customer_state</th>\n",
              "    </tr>\n",
              "  </thead>\n",
              "  <tbody>\n",
              "    <tr>\n",
              "      <th>0</th>\n",
              "      <td>06b8999e2fba1a1fbc88172c00ba8bc7</td>\n",
              "      <td>861eff4711a542e4b93843c6dd7febb0</td>\n",
              "      <td>14409</td>\n",
              "      <td>franca</td>\n",
              "      <td>SP</td>\n",
              "    </tr>\n",
              "    <tr>\n",
              "      <th>1</th>\n",
              "      <td>18955e83d337fd6b2def6b18a428ac77</td>\n",
              "      <td>290c77bc529b7ac935b93aa66c333dc3</td>\n",
              "      <td>9790</td>\n",
              "      <td>sao bernardo do campo</td>\n",
              "      <td>SP</td>\n",
              "    </tr>\n",
              "    <tr>\n",
              "      <th>2</th>\n",
              "      <td>4e7b3e00288586ebd08712fdd0374a03</td>\n",
              "      <td>060e732b5b29e8181a18229c7b0b2b5e</td>\n",
              "      <td>1151</td>\n",
              "      <td>sao paulo</td>\n",
              "      <td>SP</td>\n",
              "    </tr>\n",
              "    <tr>\n",
              "      <th>3</th>\n",
              "      <td>b2b6027bc5c5109e529d4dc6358b12c3</td>\n",
              "      <td>259dac757896d24d7702b9acbbff3f3c</td>\n",
              "      <td>8775</td>\n",
              "      <td>mogi das cruzes</td>\n",
              "      <td>SP</td>\n",
              "    </tr>\n",
              "    <tr>\n",
              "      <th>4</th>\n",
              "      <td>4f2d8ab171c80ec8364f7c12e35b23ad</td>\n",
              "      <td>345ecd01c38d18a9036ed96c73b8d066</td>\n",
              "      <td>13056</td>\n",
              "      <td>campinas</td>\n",
              "      <td>SP</td>\n",
              "    </tr>\n",
              "  </tbody>\n",
              "</table>\n",
              "</div>"
            ],
            "text/plain": [
              "                        customer_id                customer_unique_id  \\\n",
              "0  06b8999e2fba1a1fbc88172c00ba8bc7  861eff4711a542e4b93843c6dd7febb0   \n",
              "1  18955e83d337fd6b2def6b18a428ac77  290c77bc529b7ac935b93aa66c333dc3   \n",
              "2  4e7b3e00288586ebd08712fdd0374a03  060e732b5b29e8181a18229c7b0b2b5e   \n",
              "3  b2b6027bc5c5109e529d4dc6358b12c3  259dac757896d24d7702b9acbbff3f3c   \n",
              "4  4f2d8ab171c80ec8364f7c12e35b23ad  345ecd01c38d18a9036ed96c73b8d066   \n",
              "\n",
              "   customer_zip_code_prefix          customer_city customer_state  \n",
              "0                     14409                 franca             SP  \n",
              "1                      9790  sao bernardo do campo             SP  \n",
              "2                      1151              sao paulo             SP  \n",
              "3                      8775        mogi das cruzes             SP  \n",
              "4                     13056               campinas             SP  "
            ]
          },
          "execution_count": 12,
          "metadata": {},
          "output_type": "execute_result"
        }
      ],
      "source": [
        "# Memuat data customers_df\n",
        "customers_df = pd.read_csv('data/customers_dataset.csv')\n",
        "customers_df.head()"
      ]
    },
    {
      "cell_type": "code",
      "execution_count": 13,
      "id": "4aa8bd70",
      "metadata": {
        "colab": {
          "base_uri": "https://localhost:8080/",
          "height": 226
        },
        "id": "4aa8bd70",
        "outputId": "22faccaa-3dc7-48bd-e5ea-6dc5a4128121"
      },
      "outputs": [
        {
          "data": {
            "text/html": [
              "<div>\n",
              "<style scoped>\n",
              "    .dataframe tbody tr th:only-of-type {\n",
              "        vertical-align: middle;\n",
              "    }\n",
              "\n",
              "    .dataframe tbody tr th {\n",
              "        vertical-align: top;\n",
              "    }\n",
              "\n",
              "    .dataframe thead th {\n",
              "        text-align: right;\n",
              "    }\n",
              "</style>\n",
              "<table border=\"1\" class=\"dataframe\">\n",
              "  <thead>\n",
              "    <tr style=\"text-align: right;\">\n",
              "      <th></th>\n",
              "      <th>geolocation_zip_code_prefix</th>\n",
              "      <th>geolocation_lat</th>\n",
              "      <th>geolocation_lng</th>\n",
              "      <th>geolocation_city</th>\n",
              "      <th>geolocation_state</th>\n",
              "    </tr>\n",
              "  </thead>\n",
              "  <tbody>\n",
              "    <tr>\n",
              "      <th>0</th>\n",
              "      <td>1037</td>\n",
              "      <td>-23.545621</td>\n",
              "      <td>-46.639292</td>\n",
              "      <td>sao paulo</td>\n",
              "      <td>SP</td>\n",
              "    </tr>\n",
              "    <tr>\n",
              "      <th>1</th>\n",
              "      <td>1046</td>\n",
              "      <td>-23.546081</td>\n",
              "      <td>-46.644820</td>\n",
              "      <td>sao paulo</td>\n",
              "      <td>SP</td>\n",
              "    </tr>\n",
              "    <tr>\n",
              "      <th>2</th>\n",
              "      <td>1046</td>\n",
              "      <td>-23.546129</td>\n",
              "      <td>-46.642951</td>\n",
              "      <td>sao paulo</td>\n",
              "      <td>SP</td>\n",
              "    </tr>\n",
              "    <tr>\n",
              "      <th>3</th>\n",
              "      <td>1041</td>\n",
              "      <td>-23.544392</td>\n",
              "      <td>-46.639499</td>\n",
              "      <td>sao paulo</td>\n",
              "      <td>SP</td>\n",
              "    </tr>\n",
              "    <tr>\n",
              "      <th>4</th>\n",
              "      <td>1035</td>\n",
              "      <td>-23.541578</td>\n",
              "      <td>-46.641607</td>\n",
              "      <td>sao paulo</td>\n",
              "      <td>SP</td>\n",
              "    </tr>\n",
              "  </tbody>\n",
              "</table>\n",
              "</div>"
            ],
            "text/plain": [
              "   geolocation_zip_code_prefix  geolocation_lat  geolocation_lng  \\\n",
              "0                         1037       -23.545621       -46.639292   \n",
              "1                         1046       -23.546081       -46.644820   \n",
              "2                         1046       -23.546129       -46.642951   \n",
              "3                         1041       -23.544392       -46.639499   \n",
              "4                         1035       -23.541578       -46.641607   \n",
              "\n",
              "  geolocation_city geolocation_state  \n",
              "0        sao paulo                SP  \n",
              "1        sao paulo                SP  \n",
              "2        sao paulo                SP  \n",
              "3        sao paulo                SP  \n",
              "4        sao paulo                SP  "
            ]
          },
          "execution_count": 13,
          "metadata": {},
          "output_type": "execute_result"
        }
      ],
      "source": [
        "# Memuat data geolocation\n",
        "geolocation_df = pd.read_csv('data/geolocation_dataset.csv')\n",
        "geolocation_df.head()"
      ]
    },
    {
      "cell_type": "code",
      "execution_count": 14,
      "id": "e9a8c584",
      "metadata": {
        "id": "e9a8c584",
        "outputId": "0156a850-8a47-4633-afa2-f606e4a862ed",
        "scrolled": true
      },
      "outputs": [
        {
          "data": {
            "text/html": [
              "<div>\n",
              "<style scoped>\n",
              "    .dataframe tbody tr th:only-of-type {\n",
              "        vertical-align: middle;\n",
              "    }\n",
              "\n",
              "    .dataframe tbody tr th {\n",
              "        vertical-align: top;\n",
              "    }\n",
              "\n",
              "    .dataframe thead th {\n",
              "        text-align: right;\n",
              "    }\n",
              "</style>\n",
              "<table border=\"1\" class=\"dataframe\">\n",
              "  <thead>\n",
              "    <tr style=\"text-align: right;\">\n",
              "      <th></th>\n",
              "      <th>order_id</th>\n",
              "      <th>customer_id</th>\n",
              "      <th>order_status</th>\n",
              "      <th>order_purchase_timestamp</th>\n",
              "      <th>order_approved_at</th>\n",
              "      <th>order_delivered_carrier_date</th>\n",
              "      <th>order_delivered_customer_date</th>\n",
              "      <th>order_estimated_delivery_date</th>\n",
              "    </tr>\n",
              "  </thead>\n",
              "  <tbody>\n",
              "    <tr>\n",
              "      <th>0</th>\n",
              "      <td>e481f51cbdc54678b7cc49136f2d6af7</td>\n",
              "      <td>9ef432eb6251297304e76186b10a928d</td>\n",
              "      <td>delivered</td>\n",
              "      <td>2017-10-02 10:56:33</td>\n",
              "      <td>2017-10-02 11:07:15</td>\n",
              "      <td>2017-10-04 19:55:00</td>\n",
              "      <td>2017-10-10 21:25:13</td>\n",
              "      <td>2017-10-18 00:00:00</td>\n",
              "    </tr>\n",
              "    <tr>\n",
              "      <th>1</th>\n",
              "      <td>53cdb2fc8bc7dce0b6741e2150273451</td>\n",
              "      <td>b0830fb4747a6c6d20dea0b8c802d7ef</td>\n",
              "      <td>delivered</td>\n",
              "      <td>2018-07-24 20:41:37</td>\n",
              "      <td>2018-07-26 03:24:27</td>\n",
              "      <td>2018-07-26 14:31:00</td>\n",
              "      <td>2018-08-07 15:27:45</td>\n",
              "      <td>2018-08-13 00:00:00</td>\n",
              "    </tr>\n",
              "    <tr>\n",
              "      <th>2</th>\n",
              "      <td>47770eb9100c2d0c44946d9cf07ec65d</td>\n",
              "      <td>41ce2a54c0b03bf3443c3d931a367089</td>\n",
              "      <td>delivered</td>\n",
              "      <td>2018-08-08 08:38:49</td>\n",
              "      <td>2018-08-08 08:55:23</td>\n",
              "      <td>2018-08-08 13:50:00</td>\n",
              "      <td>2018-08-17 18:06:29</td>\n",
              "      <td>2018-09-04 00:00:00</td>\n",
              "    </tr>\n",
              "    <tr>\n",
              "      <th>3</th>\n",
              "      <td>949d5b44dbf5de918fe9c16f97b45f8a</td>\n",
              "      <td>f88197465ea7920adcdbec7375364d82</td>\n",
              "      <td>delivered</td>\n",
              "      <td>2017-11-18 19:28:06</td>\n",
              "      <td>2017-11-18 19:45:59</td>\n",
              "      <td>2017-11-22 13:39:59</td>\n",
              "      <td>2017-12-02 00:28:42</td>\n",
              "      <td>2017-12-15 00:00:00</td>\n",
              "    </tr>\n",
              "    <tr>\n",
              "      <th>4</th>\n",
              "      <td>ad21c59c0840e6cb83a9ceb5573f8159</td>\n",
              "      <td>8ab97904e6daea8866dbdbc4fb7aad2c</td>\n",
              "      <td>delivered</td>\n",
              "      <td>2018-02-13 21:18:39</td>\n",
              "      <td>2018-02-13 22:20:29</td>\n",
              "      <td>2018-02-14 19:46:34</td>\n",
              "      <td>2018-02-16 18:17:02</td>\n",
              "      <td>2018-02-26 00:00:00</td>\n",
              "    </tr>\n",
              "  </tbody>\n",
              "</table>\n",
              "</div>"
            ],
            "text/plain": [
              "                           order_id                       customer_id  \\\n",
              "0  e481f51cbdc54678b7cc49136f2d6af7  9ef432eb6251297304e76186b10a928d   \n",
              "1  53cdb2fc8bc7dce0b6741e2150273451  b0830fb4747a6c6d20dea0b8c802d7ef   \n",
              "2  47770eb9100c2d0c44946d9cf07ec65d  41ce2a54c0b03bf3443c3d931a367089   \n",
              "3  949d5b44dbf5de918fe9c16f97b45f8a  f88197465ea7920adcdbec7375364d82   \n",
              "4  ad21c59c0840e6cb83a9ceb5573f8159  8ab97904e6daea8866dbdbc4fb7aad2c   \n",
              "\n",
              "  order_status order_purchase_timestamp    order_approved_at  \\\n",
              "0    delivered      2017-10-02 10:56:33  2017-10-02 11:07:15   \n",
              "1    delivered      2018-07-24 20:41:37  2018-07-26 03:24:27   \n",
              "2    delivered      2018-08-08 08:38:49  2018-08-08 08:55:23   \n",
              "3    delivered      2017-11-18 19:28:06  2017-11-18 19:45:59   \n",
              "4    delivered      2018-02-13 21:18:39  2018-02-13 22:20:29   \n",
              "\n",
              "  order_delivered_carrier_date order_delivered_customer_date  \\\n",
              "0          2017-10-04 19:55:00           2017-10-10 21:25:13   \n",
              "1          2018-07-26 14:31:00           2018-08-07 15:27:45   \n",
              "2          2018-08-08 13:50:00           2018-08-17 18:06:29   \n",
              "3          2017-11-22 13:39:59           2017-12-02 00:28:42   \n",
              "4          2018-02-14 19:46:34           2018-02-16 18:17:02   \n",
              "\n",
              "  order_estimated_delivery_date  \n",
              "0           2017-10-18 00:00:00  \n",
              "1           2018-08-13 00:00:00  \n",
              "2           2018-09-04 00:00:00  \n",
              "3           2017-12-15 00:00:00  \n",
              "4           2018-02-26 00:00:00  "
            ]
          },
          "execution_count": 14,
          "metadata": {},
          "output_type": "execute_result"
        }
      ],
      "source": [
        "# Memuat data Data order\n",
        "orders_df = pd.read_csv('data/orders_dataset.csv')\n",
        "orders_df.head()"
      ]
    },
    {
      "cell_type": "code",
      "execution_count": 15,
      "id": "20187f21",
      "metadata": {
        "id": "20187f21",
        "outputId": "9addb4cf-8f3c-4b3f-8583-c7f89183b828"
      },
      "outputs": [
        {
          "data": {
            "text/html": [
              "<div>\n",
              "<style scoped>\n",
              "    .dataframe tbody tr th:only-of-type {\n",
              "        vertical-align: middle;\n",
              "    }\n",
              "\n",
              "    .dataframe tbody tr th {\n",
              "        vertical-align: top;\n",
              "    }\n",
              "\n",
              "    .dataframe thead th {\n",
              "        text-align: right;\n",
              "    }\n",
              "</style>\n",
              "<table border=\"1\" class=\"dataframe\">\n",
              "  <thead>\n",
              "    <tr style=\"text-align: right;\">\n",
              "      <th></th>\n",
              "      <th>order_id</th>\n",
              "      <th>order_item_id</th>\n",
              "      <th>product_id</th>\n",
              "      <th>seller_id</th>\n",
              "      <th>shipping_limit_date</th>\n",
              "      <th>price</th>\n",
              "      <th>freight_value</th>\n",
              "    </tr>\n",
              "  </thead>\n",
              "  <tbody>\n",
              "    <tr>\n",
              "      <th>0</th>\n",
              "      <td>00010242fe8c5a6d1ba2dd792cb16214</td>\n",
              "      <td>1</td>\n",
              "      <td>4244733e06e7ecb4970a6e2683c13e61</td>\n",
              "      <td>48436dade18ac8b2bce089ec2a041202</td>\n",
              "      <td>2017-09-19 09:45:35</td>\n",
              "      <td>58.90</td>\n",
              "      <td>13.29</td>\n",
              "    </tr>\n",
              "    <tr>\n",
              "      <th>1</th>\n",
              "      <td>00018f77f2f0320c557190d7a144bdd3</td>\n",
              "      <td>1</td>\n",
              "      <td>e5f2d52b802189ee658865ca93d83a8f</td>\n",
              "      <td>dd7ddc04e1b6c2c614352b383efe2d36</td>\n",
              "      <td>2017-05-03 11:05:13</td>\n",
              "      <td>239.90</td>\n",
              "      <td>19.93</td>\n",
              "    </tr>\n",
              "    <tr>\n",
              "      <th>2</th>\n",
              "      <td>000229ec398224ef6ca0657da4fc703e</td>\n",
              "      <td>1</td>\n",
              "      <td>c777355d18b72b67abbeef9df44fd0fd</td>\n",
              "      <td>5b51032eddd242adc84c38acab88f23d</td>\n",
              "      <td>2018-01-18 14:48:30</td>\n",
              "      <td>199.00</td>\n",
              "      <td>17.87</td>\n",
              "    </tr>\n",
              "    <tr>\n",
              "      <th>3</th>\n",
              "      <td>00024acbcdf0a6daa1e931b038114c75</td>\n",
              "      <td>1</td>\n",
              "      <td>7634da152a4610f1595efa32f14722fc</td>\n",
              "      <td>9d7a1d34a5052409006425275ba1c2b4</td>\n",
              "      <td>2018-08-15 10:10:18</td>\n",
              "      <td>12.99</td>\n",
              "      <td>12.79</td>\n",
              "    </tr>\n",
              "    <tr>\n",
              "      <th>4</th>\n",
              "      <td>00042b26cf59d7ce69dfabb4e55b4fd9</td>\n",
              "      <td>1</td>\n",
              "      <td>ac6c3623068f30de03045865e4e10089</td>\n",
              "      <td>df560393f3a51e74553ab94004ba5c87</td>\n",
              "      <td>2017-02-13 13:57:51</td>\n",
              "      <td>199.90</td>\n",
              "      <td>18.14</td>\n",
              "    </tr>\n",
              "  </tbody>\n",
              "</table>\n",
              "</div>"
            ],
            "text/plain": [
              "                           order_id  order_item_id  \\\n",
              "0  00010242fe8c5a6d1ba2dd792cb16214              1   \n",
              "1  00018f77f2f0320c557190d7a144bdd3              1   \n",
              "2  000229ec398224ef6ca0657da4fc703e              1   \n",
              "3  00024acbcdf0a6daa1e931b038114c75              1   \n",
              "4  00042b26cf59d7ce69dfabb4e55b4fd9              1   \n",
              "\n",
              "                         product_id                         seller_id  \\\n",
              "0  4244733e06e7ecb4970a6e2683c13e61  48436dade18ac8b2bce089ec2a041202   \n",
              "1  e5f2d52b802189ee658865ca93d83a8f  dd7ddc04e1b6c2c614352b383efe2d36   \n",
              "2  c777355d18b72b67abbeef9df44fd0fd  5b51032eddd242adc84c38acab88f23d   \n",
              "3  7634da152a4610f1595efa32f14722fc  9d7a1d34a5052409006425275ba1c2b4   \n",
              "4  ac6c3623068f30de03045865e4e10089  df560393f3a51e74553ab94004ba5c87   \n",
              "\n",
              "   shipping_limit_date   price  freight_value  \n",
              "0  2017-09-19 09:45:35   58.90          13.29  \n",
              "1  2017-05-03 11:05:13  239.90          19.93  \n",
              "2  2018-01-18 14:48:30  199.00          17.87  \n",
              "3  2018-08-15 10:10:18   12.99          12.79  \n",
              "4  2017-02-13 13:57:51  199.90          18.14  "
            ]
          },
          "execution_count": 15,
          "metadata": {},
          "output_type": "execute_result"
        }
      ],
      "source": [
        "# Menampilkan Data Order Items\n",
        "order_items_df = pd.read_csv('data/order_items_dataset.csv')\n",
        "order_items_df.head()"
      ]
    },
    {
      "cell_type": "code",
      "execution_count": 16,
      "id": "c55b9463",
      "metadata": {
        "id": "c55b9463",
        "outputId": "a6b13c7f-7964-458b-afb2-6a3173646c73"
      },
      "outputs": [
        {
          "data": {
            "text/html": [
              "<div>\n",
              "<style scoped>\n",
              "    .dataframe tbody tr th:only-of-type {\n",
              "        vertical-align: middle;\n",
              "    }\n",
              "\n",
              "    .dataframe tbody tr th {\n",
              "        vertical-align: top;\n",
              "    }\n",
              "\n",
              "    .dataframe thead th {\n",
              "        text-align: right;\n",
              "    }\n",
              "</style>\n",
              "<table border=\"1\" class=\"dataframe\">\n",
              "  <thead>\n",
              "    <tr style=\"text-align: right;\">\n",
              "      <th></th>\n",
              "      <th>order_id</th>\n",
              "      <th>order_item_id</th>\n",
              "      <th>product_id</th>\n",
              "      <th>seller_id</th>\n",
              "      <th>shipping_limit_date</th>\n",
              "      <th>price</th>\n",
              "      <th>freight_value</th>\n",
              "    </tr>\n",
              "  </thead>\n",
              "  <tbody>\n",
              "    <tr>\n",
              "      <th>0</th>\n",
              "      <td>00010242fe8c5a6d1ba2dd792cb16214</td>\n",
              "      <td>1</td>\n",
              "      <td>4244733e06e7ecb4970a6e2683c13e61</td>\n",
              "      <td>48436dade18ac8b2bce089ec2a041202</td>\n",
              "      <td>2017-09-19 09:45:35</td>\n",
              "      <td>58.90</td>\n",
              "      <td>13.29</td>\n",
              "    </tr>\n",
              "    <tr>\n",
              "      <th>1</th>\n",
              "      <td>00018f77f2f0320c557190d7a144bdd3</td>\n",
              "      <td>1</td>\n",
              "      <td>e5f2d52b802189ee658865ca93d83a8f</td>\n",
              "      <td>dd7ddc04e1b6c2c614352b383efe2d36</td>\n",
              "      <td>2017-05-03 11:05:13</td>\n",
              "      <td>239.90</td>\n",
              "      <td>19.93</td>\n",
              "    </tr>\n",
              "    <tr>\n",
              "      <th>2</th>\n",
              "      <td>000229ec398224ef6ca0657da4fc703e</td>\n",
              "      <td>1</td>\n",
              "      <td>c777355d18b72b67abbeef9df44fd0fd</td>\n",
              "      <td>5b51032eddd242adc84c38acab88f23d</td>\n",
              "      <td>2018-01-18 14:48:30</td>\n",
              "      <td>199.00</td>\n",
              "      <td>17.87</td>\n",
              "    </tr>\n",
              "    <tr>\n",
              "      <th>3</th>\n",
              "      <td>00024acbcdf0a6daa1e931b038114c75</td>\n",
              "      <td>1</td>\n",
              "      <td>7634da152a4610f1595efa32f14722fc</td>\n",
              "      <td>9d7a1d34a5052409006425275ba1c2b4</td>\n",
              "      <td>2018-08-15 10:10:18</td>\n",
              "      <td>12.99</td>\n",
              "      <td>12.79</td>\n",
              "    </tr>\n",
              "    <tr>\n",
              "      <th>4</th>\n",
              "      <td>00042b26cf59d7ce69dfabb4e55b4fd9</td>\n",
              "      <td>1</td>\n",
              "      <td>ac6c3623068f30de03045865e4e10089</td>\n",
              "      <td>df560393f3a51e74553ab94004ba5c87</td>\n",
              "      <td>2017-02-13 13:57:51</td>\n",
              "      <td>199.90</td>\n",
              "      <td>18.14</td>\n",
              "    </tr>\n",
              "  </tbody>\n",
              "</table>\n",
              "</div>"
            ],
            "text/plain": [
              "                           order_id  order_item_id  \\\n",
              "0  00010242fe8c5a6d1ba2dd792cb16214              1   \n",
              "1  00018f77f2f0320c557190d7a144bdd3              1   \n",
              "2  000229ec398224ef6ca0657da4fc703e              1   \n",
              "3  00024acbcdf0a6daa1e931b038114c75              1   \n",
              "4  00042b26cf59d7ce69dfabb4e55b4fd9              1   \n",
              "\n",
              "                         product_id                         seller_id  \\\n",
              "0  4244733e06e7ecb4970a6e2683c13e61  48436dade18ac8b2bce089ec2a041202   \n",
              "1  e5f2d52b802189ee658865ca93d83a8f  dd7ddc04e1b6c2c614352b383efe2d36   \n",
              "2  c777355d18b72b67abbeef9df44fd0fd  5b51032eddd242adc84c38acab88f23d   \n",
              "3  7634da152a4610f1595efa32f14722fc  9d7a1d34a5052409006425275ba1c2b4   \n",
              "4  ac6c3623068f30de03045865e4e10089  df560393f3a51e74553ab94004ba5c87   \n",
              "\n",
              "   shipping_limit_date   price  freight_value  \n",
              "0  2017-09-19 09:45:35   58.90          13.29  \n",
              "1  2017-05-03 11:05:13  239.90          19.93  \n",
              "2  2018-01-18 14:48:30  199.00          17.87  \n",
              "3  2018-08-15 10:10:18   12.99          12.79  \n",
              "4  2017-02-13 13:57:51  199.90          18.14  "
            ]
          },
          "execution_count": 16,
          "metadata": {},
          "output_type": "execute_result"
        }
      ],
      "source": [
        "# Memuat data order_items_dataset\n",
        "order_items_dataset = pd.read_csv('data/order_items_dataset.csv')\n",
        "order_items_dataset.head()"
      ]
    },
    {
      "cell_type": "code",
      "execution_count": 17,
      "id": "baa00ff2",
      "metadata": {
        "id": "baa00ff2",
        "outputId": "7375e5b2-78b0-46ab-c4df-d32848c82d1b"
      },
      "outputs": [
        {
          "data": {
            "text/html": [
              "<div>\n",
              "<style scoped>\n",
              "    .dataframe tbody tr th:only-of-type {\n",
              "        vertical-align: middle;\n",
              "    }\n",
              "\n",
              "    .dataframe tbody tr th {\n",
              "        vertical-align: top;\n",
              "    }\n",
              "\n",
              "    .dataframe thead th {\n",
              "        text-align: right;\n",
              "    }\n",
              "</style>\n",
              "<table border=\"1\" class=\"dataframe\">\n",
              "  <thead>\n",
              "    <tr style=\"text-align: right;\">\n",
              "      <th></th>\n",
              "      <th>product_id</th>\n",
              "      <th>product_category_name</th>\n",
              "      <th>product_name_lenght</th>\n",
              "      <th>product_description_lenght</th>\n",
              "      <th>product_photos_qty</th>\n",
              "      <th>product_weight_g</th>\n",
              "      <th>product_length_cm</th>\n",
              "      <th>product_height_cm</th>\n",
              "      <th>product_width_cm</th>\n",
              "    </tr>\n",
              "  </thead>\n",
              "  <tbody>\n",
              "    <tr>\n",
              "      <th>0</th>\n",
              "      <td>1e9e8ef04dbcff4541ed26657ea517e5</td>\n",
              "      <td>perfumaria</td>\n",
              "      <td>40.0</td>\n",
              "      <td>287.0</td>\n",
              "      <td>1.0</td>\n",
              "      <td>225.0</td>\n",
              "      <td>16.0</td>\n",
              "      <td>10.0</td>\n",
              "      <td>14.0</td>\n",
              "    </tr>\n",
              "    <tr>\n",
              "      <th>1</th>\n",
              "      <td>3aa071139cb16b67ca9e5dea641aaa2f</td>\n",
              "      <td>artes</td>\n",
              "      <td>44.0</td>\n",
              "      <td>276.0</td>\n",
              "      <td>1.0</td>\n",
              "      <td>1000.0</td>\n",
              "      <td>30.0</td>\n",
              "      <td>18.0</td>\n",
              "      <td>20.0</td>\n",
              "    </tr>\n",
              "    <tr>\n",
              "      <th>2</th>\n",
              "      <td>96bd76ec8810374ed1b65e291975717f</td>\n",
              "      <td>esporte_lazer</td>\n",
              "      <td>46.0</td>\n",
              "      <td>250.0</td>\n",
              "      <td>1.0</td>\n",
              "      <td>154.0</td>\n",
              "      <td>18.0</td>\n",
              "      <td>9.0</td>\n",
              "      <td>15.0</td>\n",
              "    </tr>\n",
              "    <tr>\n",
              "      <th>3</th>\n",
              "      <td>cef67bcfe19066a932b7673e239eb23d</td>\n",
              "      <td>bebes</td>\n",
              "      <td>27.0</td>\n",
              "      <td>261.0</td>\n",
              "      <td>1.0</td>\n",
              "      <td>371.0</td>\n",
              "      <td>26.0</td>\n",
              "      <td>4.0</td>\n",
              "      <td>26.0</td>\n",
              "    </tr>\n",
              "    <tr>\n",
              "      <th>4</th>\n",
              "      <td>9dc1a7de274444849c219cff195d0b71</td>\n",
              "      <td>utilidades_domesticas</td>\n",
              "      <td>37.0</td>\n",
              "      <td>402.0</td>\n",
              "      <td>4.0</td>\n",
              "      <td>625.0</td>\n",
              "      <td>20.0</td>\n",
              "      <td>17.0</td>\n",
              "      <td>13.0</td>\n",
              "    </tr>\n",
              "  </tbody>\n",
              "</table>\n",
              "</div>"
            ],
            "text/plain": [
              "                         product_id  product_category_name  \\\n",
              "0  1e9e8ef04dbcff4541ed26657ea517e5             perfumaria   \n",
              "1  3aa071139cb16b67ca9e5dea641aaa2f                  artes   \n",
              "2  96bd76ec8810374ed1b65e291975717f          esporte_lazer   \n",
              "3  cef67bcfe19066a932b7673e239eb23d                  bebes   \n",
              "4  9dc1a7de274444849c219cff195d0b71  utilidades_domesticas   \n",
              "\n",
              "   product_name_lenght  product_description_lenght  product_photos_qty  \\\n",
              "0                 40.0                       287.0                 1.0   \n",
              "1                 44.0                       276.0                 1.0   \n",
              "2                 46.0                       250.0                 1.0   \n",
              "3                 27.0                       261.0                 1.0   \n",
              "4                 37.0                       402.0                 4.0   \n",
              "\n",
              "   product_weight_g  product_length_cm  product_height_cm  product_width_cm  \n",
              "0             225.0               16.0               10.0              14.0  \n",
              "1            1000.0               30.0               18.0              20.0  \n",
              "2             154.0               18.0                9.0              15.0  \n",
              "3             371.0               26.0                4.0              26.0  \n",
              "4             625.0               20.0               17.0              13.0  "
            ]
          },
          "execution_count": 17,
          "metadata": {},
          "output_type": "execute_result"
        }
      ],
      "source": [
        "# Memuat Data Produk\n",
        "products_df = pd.read_csv('data/products_dataset.csv')\n",
        "products_df.head()"
      ]
    },
    {
      "cell_type": "code",
      "execution_count": 18,
      "id": "a1649980",
      "metadata": {},
      "outputs": [
        {
          "data": {
            "text/html": [
              "<div>\n",
              "<style scoped>\n",
              "    .dataframe tbody tr th:only-of-type {\n",
              "        vertical-align: middle;\n",
              "    }\n",
              "\n",
              "    .dataframe tbody tr th {\n",
              "        vertical-align: top;\n",
              "    }\n",
              "\n",
              "    .dataframe thead th {\n",
              "        text-align: right;\n",
              "    }\n",
              "</style>\n",
              "<table border=\"1\" class=\"dataframe\">\n",
              "  <thead>\n",
              "    <tr style=\"text-align: right;\">\n",
              "      <th></th>\n",
              "      <th>product_category_name</th>\n",
              "      <th>product_category_name_english</th>\n",
              "    </tr>\n",
              "  </thead>\n",
              "  <tbody>\n",
              "    <tr>\n",
              "      <th>0</th>\n",
              "      <td>beleza_saude</td>\n",
              "      <td>health_beauty</td>\n",
              "    </tr>\n",
              "    <tr>\n",
              "      <th>1</th>\n",
              "      <td>informatica_acessorios</td>\n",
              "      <td>computers_accessories</td>\n",
              "    </tr>\n",
              "    <tr>\n",
              "      <th>2</th>\n",
              "      <td>automotivo</td>\n",
              "      <td>auto</td>\n",
              "    </tr>\n",
              "    <tr>\n",
              "      <th>3</th>\n",
              "      <td>cama_mesa_banho</td>\n",
              "      <td>bed_bath_table</td>\n",
              "    </tr>\n",
              "    <tr>\n",
              "      <th>4</th>\n",
              "      <td>moveis_decoracao</td>\n",
              "      <td>furniture_decor</td>\n",
              "    </tr>\n",
              "  </tbody>\n",
              "</table>\n",
              "</div>"
            ],
            "text/plain": [
              "    product_category_name product_category_name_english\n",
              "0            beleza_saude                 health_beauty\n",
              "1  informatica_acessorios         computers_accessories\n",
              "2              automotivo                          auto\n",
              "3         cama_mesa_banho                bed_bath_table\n",
              "4        moveis_decoracao               furniture_decor"
            ]
          },
          "execution_count": 18,
          "metadata": {},
          "output_type": "execute_result"
        }
      ],
      "source": [
        "# Memuat Data Kategori Produk\n",
        "product_category_df = pd.read_csv('data/product_category_name_translation.csv')\n",
        "product_category_df.head()"
      ]
    },
    {
      "cell_type": "markdown",
      "id": "1fe4e0a1",
      "metadata": {},
      "source": [
        "**Informasi:**\n",
        "- Data yang digunakan hanya Customers, Geolocation, Orders, Order Items, Products, dan Products Category berupa penjualan marketplace di brazil dengan total 100 ribu order dari rentang tahun 2016 - 2018"
      ]
    },
    {
      "cell_type": "markdown",
      "id": "f0851a4c",
      "metadata": {
        "id": "f0851a4c"
      },
      "source": [
        "### Assessing Data"
      ]
    },
    {
      "cell_type": "markdown",
      "id": "658a6430",
      "metadata": {},
      "source": [
        "Pada tahap ini, kita akan melakukan penilaian data dengan mengidentifikasi Missing Value, Data Duplikat, dan Nilai yang Tidak Akurat."
      ]
    },
    {
      "cell_type": "markdown",
      "id": "57241d99",
      "metadata": {
        "id": "57241d99"
      },
      "source": [
        "#### Menilai Data customers_df"
      ]
    },
    {
      "cell_type": "code",
      "execution_count": 19,
      "id": "11bd3e5e",
      "metadata": {
        "id": "11bd3e5e",
        "outputId": "4989829f-a735-426d-9042-54e7bb758ec6"
      },
      "outputs": [
        {
          "name": "stdout",
          "output_type": "stream",
          "text": [
            "<class 'pandas.core.frame.DataFrame'>\n",
            "RangeIndex: 99441 entries, 0 to 99440\n",
            "Data columns (total 5 columns):\n",
            " #   Column                    Non-Null Count  Dtype \n",
            "---  ------                    --------------  ----- \n",
            " 0   customer_id               99441 non-null  object\n",
            " 1   customer_unique_id        99441 non-null  object\n",
            " 2   customer_zip_code_prefix  99441 non-null  int64 \n",
            " 3   customer_city             99441 non-null  object\n",
            " 4   customer_state            99441 non-null  object\n",
            "dtypes: int64(1), object(4)\n",
            "memory usage: 3.8+ MB\n"
          ]
        }
      ],
      "source": [
        "# Memeriksa tipe data dari setiap kolom dalam data customers_df\n",
        "customers_df.info()"
      ]
    },
    {
      "cell_type": "code",
      "execution_count": 20,
      "id": "47bb8031",
      "metadata": {},
      "outputs": [
        {
          "data": {
            "text/plain": [
              "customer_id                 0\n",
              "customer_unique_id          0\n",
              "customer_zip_code_prefix    0\n",
              "customer_city               0\n",
              "customer_state              0\n",
              "dtype: int64"
            ]
          },
          "execution_count": 20,
          "metadata": {},
          "output_type": "execute_result"
        }
      ],
      "source": [
        "# Count Missing Values Jika ada\n",
        "customers_df.isna().sum()"
      ]
    },
    {
      "cell_type": "markdown",
      "id": "c9928b96",
      "metadata": {},
      "source": [
        "No missing value di dalam data customer"
      ]
    },
    {
      "cell_type": "code",
      "execution_count": 21,
      "id": "857c7302",
      "metadata": {},
      "outputs": [
        {
          "name": "stdout",
          "output_type": "stream",
          "text": [
            "Duplicated Data:  0\n"
          ]
        }
      ],
      "source": [
        "# Menghitung Duplicated data\n",
        "print(\"Duplicated Data: \",customers_df.duplicated().sum())"
      ]
    },
    {
      "cell_type": "markdown",
      "id": "df62a579",
      "metadata": {},
      "source": [
        "No duplicated value di dalam data customer"
      ]
    },
    {
      "cell_type": "code",
      "execution_count": 22,
      "id": "a90ccd41",
      "metadata": {},
      "outputs": [
        {
          "data": {
            "text/html": [
              "<div>\n",
              "<style scoped>\n",
              "    .dataframe tbody tr th:only-of-type {\n",
              "        vertical-align: middle;\n",
              "    }\n",
              "\n",
              "    .dataframe tbody tr th {\n",
              "        vertical-align: top;\n",
              "    }\n",
              "\n",
              "    .dataframe thead th {\n",
              "        text-align: right;\n",
              "    }\n",
              "</style>\n",
              "<table border=\"1\" class=\"dataframe\">\n",
              "  <thead>\n",
              "    <tr style=\"text-align: right;\">\n",
              "      <th></th>\n",
              "      <th>customer_id</th>\n",
              "      <th>customer_unique_id</th>\n",
              "      <th>customer_zip_code_prefix</th>\n",
              "      <th>customer_city</th>\n",
              "      <th>customer_state</th>\n",
              "    </tr>\n",
              "  </thead>\n",
              "  <tbody>\n",
              "    <tr>\n",
              "      <th>count</th>\n",
              "      <td>99441</td>\n",
              "      <td>99441</td>\n",
              "      <td>99441.000000</td>\n",
              "      <td>99441</td>\n",
              "      <td>99441</td>\n",
              "    </tr>\n",
              "    <tr>\n",
              "      <th>unique</th>\n",
              "      <td>99441</td>\n",
              "      <td>96096</td>\n",
              "      <td>NaN</td>\n",
              "      <td>4119</td>\n",
              "      <td>27</td>\n",
              "    </tr>\n",
              "    <tr>\n",
              "      <th>top</th>\n",
              "      <td>06b8999e2fba1a1fbc88172c00ba8bc7</td>\n",
              "      <td>8d50f5eadf50201ccdcedfb9e2ac8455</td>\n",
              "      <td>NaN</td>\n",
              "      <td>sao paulo</td>\n",
              "      <td>SP</td>\n",
              "    </tr>\n",
              "    <tr>\n",
              "      <th>freq</th>\n",
              "      <td>1</td>\n",
              "      <td>17</td>\n",
              "      <td>NaN</td>\n",
              "      <td>15540</td>\n",
              "      <td>41746</td>\n",
              "    </tr>\n",
              "    <tr>\n",
              "      <th>mean</th>\n",
              "      <td>NaN</td>\n",
              "      <td>NaN</td>\n",
              "      <td>35137.474583</td>\n",
              "      <td>NaN</td>\n",
              "      <td>NaN</td>\n",
              "    </tr>\n",
              "    <tr>\n",
              "      <th>std</th>\n",
              "      <td>NaN</td>\n",
              "      <td>NaN</td>\n",
              "      <td>29797.938996</td>\n",
              "      <td>NaN</td>\n",
              "      <td>NaN</td>\n",
              "    </tr>\n",
              "    <tr>\n",
              "      <th>min</th>\n",
              "      <td>NaN</td>\n",
              "      <td>NaN</td>\n",
              "      <td>1003.000000</td>\n",
              "      <td>NaN</td>\n",
              "      <td>NaN</td>\n",
              "    </tr>\n",
              "    <tr>\n",
              "      <th>25%</th>\n",
              "      <td>NaN</td>\n",
              "      <td>NaN</td>\n",
              "      <td>11347.000000</td>\n",
              "      <td>NaN</td>\n",
              "      <td>NaN</td>\n",
              "    </tr>\n",
              "    <tr>\n",
              "      <th>50%</th>\n",
              "      <td>NaN</td>\n",
              "      <td>NaN</td>\n",
              "      <td>24416.000000</td>\n",
              "      <td>NaN</td>\n",
              "      <td>NaN</td>\n",
              "    </tr>\n",
              "    <tr>\n",
              "      <th>75%</th>\n",
              "      <td>NaN</td>\n",
              "      <td>NaN</td>\n",
              "      <td>58900.000000</td>\n",
              "      <td>NaN</td>\n",
              "      <td>NaN</td>\n",
              "    </tr>\n",
              "    <tr>\n",
              "      <th>max</th>\n",
              "      <td>NaN</td>\n",
              "      <td>NaN</td>\n",
              "      <td>99990.000000</td>\n",
              "      <td>NaN</td>\n",
              "      <td>NaN</td>\n",
              "    </tr>\n",
              "  </tbody>\n",
              "</table>\n",
              "</div>"
            ],
            "text/plain": [
              "                             customer_id                customer_unique_id  \\\n",
              "count                              99441                             99441   \n",
              "unique                             99441                             96096   \n",
              "top     06b8999e2fba1a1fbc88172c00ba8bc7  8d50f5eadf50201ccdcedfb9e2ac8455   \n",
              "freq                                   1                                17   \n",
              "mean                                 NaN                               NaN   \n",
              "std                                  NaN                               NaN   \n",
              "min                                  NaN                               NaN   \n",
              "25%                                  NaN                               NaN   \n",
              "50%                                  NaN                               NaN   \n",
              "75%                                  NaN                               NaN   \n",
              "max                                  NaN                               NaN   \n",
              "\n",
              "        customer_zip_code_prefix customer_city customer_state  \n",
              "count               99441.000000         99441          99441  \n",
              "unique                       NaN          4119             27  \n",
              "top                          NaN     sao paulo             SP  \n",
              "freq                         NaN         15540          41746  \n",
              "mean                35137.474583           NaN            NaN  \n",
              "std                 29797.938996           NaN            NaN  \n",
              "min                  1003.000000           NaN            NaN  \n",
              "25%                 11347.000000           NaN            NaN  \n",
              "50%                 24416.000000           NaN            NaN  \n",
              "75%                 58900.000000           NaN            NaN  \n",
              "max                 99990.000000           NaN            NaN  "
            ]
          },
          "execution_count": 22,
          "metadata": {},
          "output_type": "execute_result"
        }
      ],
      "source": [
        "# Ringkasan Parameter Statistika Deskriptif\n",
        "customers_df.describe(include=\"all\")"
      ]
    },
    {
      "cell_type": "markdown",
      "id": "52dbd2da",
      "metadata": {},
      "source": [
        "Data pelanggan saat ini belum menampilkan informasi penting, dan diperlukan analisis lebih lanjut untuk memahami karakteristik demografi konsumen."
      ]
    },
    {
      "cell_type": "markdown",
      "id": "2db07f80",
      "metadata": {},
      "source": [
        "#### Aseessing Data Geolocation"
      ]
    },
    {
      "cell_type": "code",
      "execution_count": 23,
      "id": "71827077",
      "metadata": {},
      "outputs": [
        {
          "name": "stdout",
          "output_type": "stream",
          "text": [
            "<class 'pandas.core.frame.DataFrame'>\n",
            "RangeIndex: 1000163 entries, 0 to 1000162\n",
            "Data columns (total 5 columns):\n",
            " #   Column                       Non-Null Count    Dtype  \n",
            "---  ------                       --------------    -----  \n",
            " 0   geolocation_zip_code_prefix  1000163 non-null  int64  \n",
            " 1   geolocation_lat              1000163 non-null  float64\n",
            " 2   geolocation_lng              1000163 non-null  float64\n",
            " 3   geolocation_city             1000163 non-null  object \n",
            " 4   geolocation_state            1000163 non-null  object \n",
            "dtypes: float64(2), int64(1), object(2)\n",
            "memory usage: 38.2+ MB\n"
          ]
        }
      ],
      "source": [
        "# Memuat Informasi Data Geolocation\n",
        "geolocation_df.info()"
      ]
    },
    {
      "cell_type": "code",
      "execution_count": 24,
      "id": "4ac9e3d5",
      "metadata": {},
      "outputs": [
        {
          "data": {
            "text/plain": [
              "geolocation_zip_code_prefix    0\n",
              "geolocation_lat                0\n",
              "geolocation_lng                0\n",
              "geolocation_city               0\n",
              "geolocation_state              0\n",
              "dtype: int64"
            ]
          },
          "execution_count": 24,
          "metadata": {},
          "output_type": "execute_result"
        }
      ],
      "source": [
        "# Cek Missing Value\n",
        "geolocation_df.isna().sum()"
      ]
    },
    {
      "cell_type": "markdown",
      "id": "c2a3bbd6",
      "metadata": {},
      "source": [
        "No missing values dalam data geolocation"
      ]
    },
    {
      "cell_type": "code",
      "execution_count": 25,
      "id": "94eb2bfa",
      "metadata": {},
      "outputs": [
        {
          "data": {
            "text/plain": [
              "array(['sao paulo', 'são paulo', 'sao bernardo do campo', ..., 'ciríaco',\n",
              "       'estação', 'vila lângaro'], dtype=object)"
            ]
          },
          "execution_count": 25,
          "metadata": {},
          "output_type": "execute_result"
        }
      ],
      "source": [
        "geolocation_df['geolocation_city'].unique()"
      ]
    },
    {
      "cell_type": "markdown",
      "id": "4defb4de",
      "metadata": {},
      "source": [
        "Dalam data geolocation muncul masalah karena kota \"sao paulo\" dan \"são paulo\" dianggap berbeda. Untuk mengatasinya, data harus dijadikan satu dengan membangun fungsi yang mengubah huruf diakritik menjadi huruf biasa."
      ]
    },
    {
      "cell_type": "code",
      "execution_count": 26,
      "id": "7bbf7263",
      "metadata": {
        "id": "7bbf7263",
        "outputId": "455bae18-fd42-441b-f092-7c009f05f808"
      },
      "outputs": [
        {
          "data": {
            "text/html": [
              "<div>\n",
              "<style scoped>\n",
              "    .dataframe tbody tr th:only-of-type {\n",
              "        vertical-align: middle;\n",
              "    }\n",
              "\n",
              "    .dataframe tbody tr th {\n",
              "        vertical-align: top;\n",
              "    }\n",
              "\n",
              "    .dataframe thead th {\n",
              "        text-align: right;\n",
              "    }\n",
              "</style>\n",
              "<table border=\"1\" class=\"dataframe\">\n",
              "  <thead>\n",
              "    <tr style=\"text-align: right;\">\n",
              "      <th></th>\n",
              "      <th>geolocation_zip_code_prefix</th>\n",
              "      <th>geolocation_lat</th>\n",
              "      <th>geolocation_lng</th>\n",
              "      <th>geolocation_city</th>\n",
              "      <th>geolocation_state</th>\n",
              "    </tr>\n",
              "  </thead>\n",
              "  <tbody>\n",
              "    <tr>\n",
              "      <th>15</th>\n",
              "      <td>1046</td>\n",
              "      <td>-23.546081</td>\n",
              "      <td>-46.644820</td>\n",
              "      <td>sao paulo</td>\n",
              "      <td>SP</td>\n",
              "    </tr>\n",
              "    <tr>\n",
              "      <th>44</th>\n",
              "      <td>1046</td>\n",
              "      <td>-23.546081</td>\n",
              "      <td>-46.644820</td>\n",
              "      <td>sao paulo</td>\n",
              "      <td>SP</td>\n",
              "    </tr>\n",
              "    <tr>\n",
              "      <th>65</th>\n",
              "      <td>1046</td>\n",
              "      <td>-23.546081</td>\n",
              "      <td>-46.644820</td>\n",
              "      <td>sao paulo</td>\n",
              "      <td>SP</td>\n",
              "    </tr>\n",
              "    <tr>\n",
              "      <th>66</th>\n",
              "      <td>1009</td>\n",
              "      <td>-23.546935</td>\n",
              "      <td>-46.636588</td>\n",
              "      <td>sao paulo</td>\n",
              "      <td>SP</td>\n",
              "    </tr>\n",
              "    <tr>\n",
              "      <th>67</th>\n",
              "      <td>1046</td>\n",
              "      <td>-23.546081</td>\n",
              "      <td>-46.644820</td>\n",
              "      <td>sao paulo</td>\n",
              "      <td>SP</td>\n",
              "    </tr>\n",
              "    <tr>\n",
              "      <th>...</th>\n",
              "      <td>...</td>\n",
              "      <td>...</td>\n",
              "      <td>...</td>\n",
              "      <td>...</td>\n",
              "      <td>...</td>\n",
              "    </tr>\n",
              "    <tr>\n",
              "      <th>1000153</th>\n",
              "      <td>99970</td>\n",
              "      <td>-28.343273</td>\n",
              "      <td>-51.873734</td>\n",
              "      <td>ciriaco</td>\n",
              "      <td>RS</td>\n",
              "    </tr>\n",
              "    <tr>\n",
              "      <th>1000154</th>\n",
              "      <td>99950</td>\n",
              "      <td>-28.070493</td>\n",
              "      <td>-52.011342</td>\n",
              "      <td>tapejara</td>\n",
              "      <td>RS</td>\n",
              "    </tr>\n",
              "    <tr>\n",
              "      <th>1000159</th>\n",
              "      <td>99900</td>\n",
              "      <td>-27.877125</td>\n",
              "      <td>-52.224882</td>\n",
              "      <td>getulio vargas</td>\n",
              "      <td>RS</td>\n",
              "    </tr>\n",
              "    <tr>\n",
              "      <th>1000160</th>\n",
              "      <td>99950</td>\n",
              "      <td>-28.071855</td>\n",
              "      <td>-52.014716</td>\n",
              "      <td>tapejara</td>\n",
              "      <td>RS</td>\n",
              "    </tr>\n",
              "    <tr>\n",
              "      <th>1000162</th>\n",
              "      <td>99950</td>\n",
              "      <td>-28.070104</td>\n",
              "      <td>-52.018658</td>\n",
              "      <td>tapejara</td>\n",
              "      <td>RS</td>\n",
              "    </tr>\n",
              "  </tbody>\n",
              "</table>\n",
              "<p>261831 rows × 5 columns</p>\n",
              "</div>"
            ],
            "text/plain": [
              "         geolocation_zip_code_prefix  geolocation_lat  geolocation_lng  \\\n",
              "15                              1046       -23.546081       -46.644820   \n",
              "44                              1046       -23.546081       -46.644820   \n",
              "65                              1046       -23.546081       -46.644820   \n",
              "66                              1009       -23.546935       -46.636588   \n",
              "67                              1046       -23.546081       -46.644820   \n",
              "...                              ...              ...              ...   \n",
              "1000153                        99970       -28.343273       -51.873734   \n",
              "1000154                        99950       -28.070493       -52.011342   \n",
              "1000159                        99900       -27.877125       -52.224882   \n",
              "1000160                        99950       -28.071855       -52.014716   \n",
              "1000162                        99950       -28.070104       -52.018658   \n",
              "\n",
              "        geolocation_city geolocation_state  \n",
              "15             sao paulo                SP  \n",
              "44             sao paulo                SP  \n",
              "65             sao paulo                SP  \n",
              "66             sao paulo                SP  \n",
              "67             sao paulo                SP  \n",
              "...                  ...               ...  \n",
              "1000153          ciriaco                RS  \n",
              "1000154         tapejara                RS  \n",
              "1000159   getulio vargas                RS  \n",
              "1000160         tapejara                RS  \n",
              "1000162         tapejara                RS  \n",
              "\n",
              "[261831 rows x 5 columns]"
            ]
          },
          "execution_count": 26,
          "metadata": {},
          "output_type": "execute_result"
        }
      ],
      "source": [
        "# Menampilkan data yang duplikat\n",
        "geolocation_df[geolocation_df.duplicated()]"
      ]
    },
    {
      "cell_type": "markdown",
      "id": "76f67124",
      "metadata": {
        "id": "76f67124"
      },
      "source": [
        "#### Assessing Orders Data"
      ]
    },
    {
      "cell_type": "code",
      "execution_count": 27,
      "id": "cfa95ff1",
      "metadata": {
        "id": "cfa95ff1",
        "outputId": "2da985c4-19f6-45db-8992-d046acdedcd2",
        "scrolled": true
      },
      "outputs": [
        {
          "name": "stdout",
          "output_type": "stream",
          "text": [
            "<class 'pandas.core.frame.DataFrame'>\n",
            "RangeIndex: 99441 entries, 0 to 99440\n",
            "Data columns (total 8 columns):\n",
            " #   Column                         Non-Null Count  Dtype \n",
            "---  ------                         --------------  ----- \n",
            " 0   order_id                       99441 non-null  object\n",
            " 1   customer_id                    99441 non-null  object\n",
            " 2   order_status                   99441 non-null  object\n",
            " 3   order_purchase_timestamp       99441 non-null  object\n",
            " 4   order_approved_at              99281 non-null  object\n",
            " 5   order_delivered_carrier_date   97658 non-null  object\n",
            " 6   order_delivered_customer_date  96476 non-null  object\n",
            " 7   order_estimated_delivery_date  99441 non-null  object\n",
            "dtypes: object(8)\n",
            "memory usage: 6.1+ MB\n"
          ]
        }
      ],
      "source": [
        "# Memeriksa tipe data dari setiap kolom dalam data orders_df\n",
        "orders_df.info()"
      ]
    },
    {
      "cell_type": "markdown",
      "id": "2227e51c",
      "metadata": {},
      "source": [
        "Tipe data `order_purchase_timestamp`, `order_approved_at`, `order_delivered_carrier_date`, `order_delivered_customer_date`, `order_estimated_delivery_date` seharusnya datetime."
      ]
    },
    {
      "cell_type": "code",
      "execution_count": 28,
      "id": "274faea5",
      "metadata": {
        "id": "274faea5",
        "outputId": "a6675ca7-8f2c-49f0-9d60-816e088b6e6c"
      },
      "outputs": [
        {
          "data": {
            "text/plain": [
              "order_id                            0\n",
              "customer_id                         0\n",
              "order_status                        0\n",
              "order_purchase_timestamp            0\n",
              "order_approved_at                 160\n",
              "order_delivered_carrier_date     1783\n",
              "order_delivered_customer_date    2965\n",
              "order_estimated_delivery_date       0\n",
              "dtype: int64"
            ]
          },
          "execution_count": 28,
          "metadata": {},
          "output_type": "execute_result"
        }
      ],
      "source": [
        "# Count missing values\n",
        "orders_df.isna().sum()"
      ]
    },
    {
      "cell_type": "code",
      "execution_count": 29,
      "id": "10fb7613",
      "metadata": {},
      "outputs": [
        {
          "name": "stdout",
          "output_type": "stream",
          "text": [
            "Duplicated Data:  0\n"
          ]
        }
      ],
      "source": [
        "# Count duplicated data\n",
        "print(\"Duplicated Data: \",orders_df.duplicated().sum())"
      ]
    },
    {
      "cell_type": "markdown",
      "id": "cf419ee5",
      "metadata": {},
      "source": [
        "Tidak ada duplicated data dalam order data"
      ]
    },
    {
      "cell_type": "code",
      "execution_count": 30,
      "id": "b66ca14a",
      "metadata": {},
      "outputs": [
        {
          "data": {
            "text/html": [
              "<div>\n",
              "<style scoped>\n",
              "    .dataframe tbody tr th:only-of-type {\n",
              "        vertical-align: middle;\n",
              "    }\n",
              "\n",
              "    .dataframe tbody tr th {\n",
              "        vertical-align: top;\n",
              "    }\n",
              "\n",
              "    .dataframe thead th {\n",
              "        text-align: right;\n",
              "    }\n",
              "</style>\n",
              "<table border=\"1\" class=\"dataframe\">\n",
              "  <thead>\n",
              "    <tr style=\"text-align: right;\">\n",
              "      <th></th>\n",
              "      <th>order_id</th>\n",
              "      <th>customer_id</th>\n",
              "      <th>order_status</th>\n",
              "      <th>order_purchase_timestamp</th>\n",
              "      <th>order_approved_at</th>\n",
              "      <th>order_delivered_carrier_date</th>\n",
              "      <th>order_delivered_customer_date</th>\n",
              "      <th>order_estimated_delivery_date</th>\n",
              "    </tr>\n",
              "  </thead>\n",
              "  <tbody>\n",
              "    <tr>\n",
              "      <th>count</th>\n",
              "      <td>99441</td>\n",
              "      <td>99441</td>\n",
              "      <td>99441</td>\n",
              "      <td>99441</td>\n",
              "      <td>99281</td>\n",
              "      <td>97658</td>\n",
              "      <td>96476</td>\n",
              "      <td>99441</td>\n",
              "    </tr>\n",
              "    <tr>\n",
              "      <th>unique</th>\n",
              "      <td>99441</td>\n",
              "      <td>99441</td>\n",
              "      <td>8</td>\n",
              "      <td>98875</td>\n",
              "      <td>90733</td>\n",
              "      <td>81018</td>\n",
              "      <td>95664</td>\n",
              "      <td>459</td>\n",
              "    </tr>\n",
              "    <tr>\n",
              "      <th>top</th>\n",
              "      <td>e481f51cbdc54678b7cc49136f2d6af7</td>\n",
              "      <td>9ef432eb6251297304e76186b10a928d</td>\n",
              "      <td>delivered</td>\n",
              "      <td>2018-04-11 10:48:14</td>\n",
              "      <td>2018-02-27 04:31:10</td>\n",
              "      <td>2018-05-09 15:48:00</td>\n",
              "      <td>2018-05-08 23:38:46</td>\n",
              "      <td>2017-12-20 00:00:00</td>\n",
              "    </tr>\n",
              "    <tr>\n",
              "      <th>freq</th>\n",
              "      <td>1</td>\n",
              "      <td>1</td>\n",
              "      <td>96478</td>\n",
              "      <td>3</td>\n",
              "      <td>9</td>\n",
              "      <td>47</td>\n",
              "      <td>3</td>\n",
              "      <td>522</td>\n",
              "    </tr>\n",
              "  </tbody>\n",
              "</table>\n",
              "</div>"
            ],
            "text/plain": [
              "                                order_id                       customer_id  \\\n",
              "count                              99441                             99441   \n",
              "unique                             99441                             99441   \n",
              "top     e481f51cbdc54678b7cc49136f2d6af7  9ef432eb6251297304e76186b10a928d   \n",
              "freq                                   1                                 1   \n",
              "\n",
              "       order_status order_purchase_timestamp    order_approved_at  \\\n",
              "count         99441                    99441                99281   \n",
              "unique            8                    98875                90733   \n",
              "top       delivered      2018-04-11 10:48:14  2018-02-27 04:31:10   \n",
              "freq          96478                        3                    9   \n",
              "\n",
              "       order_delivered_carrier_date order_delivered_customer_date  \\\n",
              "count                         97658                         96476   \n",
              "unique                        81018                         95664   \n",
              "top             2018-05-09 15:48:00           2018-05-08 23:38:46   \n",
              "freq                             47                             3   \n",
              "\n",
              "       order_estimated_delivery_date  \n",
              "count                          99441  \n",
              "unique                           459  \n",
              "top              2017-12-20 00:00:00  \n",
              "freq                             522  "
            ]
          },
          "execution_count": 30,
          "metadata": {},
          "output_type": "execute_result"
        }
      ],
      "source": [
        "# Memuat parameter statistik deskriptif\n",
        "orders_df.describe(include=\"all\")"
      ]
    },
    {
      "cell_type": "markdown",
      "id": "f177af83",
      "metadata": {},
      "source": [
        "### Assessing Order Item Data"
      ]
    },
    {
      "cell_type": "code",
      "execution_count": 31,
      "id": "840c03af",
      "metadata": {},
      "outputs": [
        {
          "name": "stdout",
          "output_type": "stream",
          "text": [
            "<class 'pandas.core.frame.DataFrame'>\n",
            "RangeIndex: 112650 entries, 0 to 112649\n",
            "Data columns (total 7 columns):\n",
            " #   Column               Non-Null Count   Dtype  \n",
            "---  ------               --------------   -----  \n",
            " 0   order_id             112650 non-null  object \n",
            " 1   order_item_id        112650 non-null  int64  \n",
            " 2   product_id           112650 non-null  object \n",
            " 3   seller_id            112650 non-null  object \n",
            " 4   shipping_limit_date  112650 non-null  object \n",
            " 5   price                112650 non-null  float64\n",
            " 6   freight_value        112650 non-null  float64\n",
            "dtypes: float64(2), int64(1), object(4)\n",
            "memory usage: 6.0+ MB\n"
          ]
        }
      ],
      "source": [
        "# Memuat informasi data order_items_df\n",
        "order_items_df.info()"
      ]
    },
    {
      "cell_type": "code",
      "execution_count": 32,
      "id": "88f2c749",
      "metadata": {},
      "outputs": [
        {
          "data": {
            "text/plain": [
              "order_id               0\n",
              "order_item_id          0\n",
              "product_id             0\n",
              "seller_id              0\n",
              "shipping_limit_date    0\n",
              "price                  0\n",
              "freight_value          0\n",
              "dtype: int64"
            ]
          },
          "execution_count": 32,
          "metadata": {},
          "output_type": "execute_result"
        }
      ],
      "source": [
        "# Count missing values\n",
        "order_items_df.isna().sum()"
      ]
    },
    {
      "cell_type": "code",
      "execution_count": 33,
      "id": "3f11d45c",
      "metadata": {},
      "outputs": [
        {
          "name": "stdout",
          "output_type": "stream",
          "text": [
            "Duplicated Data:  13984\n"
          ]
        }
      ],
      "source": [
        "# Count duplicated data\n",
        "print(\"Duplicated Data: \",order_items_df.duplicated(\"order_id\").sum())"
      ]
    },
    {
      "cell_type": "markdown",
      "id": "b65dc09a",
      "metadata": {},
      "source": [
        "Dalam dataset order_items_df, jumlah duplicated data sebanyak 13984 menunjukkan bahwa ada 13984 baris dengan nilai 'order_id' yang sama. Ini terjadi karena satu pesanan (order) dapat berisi beberapa item, sehingga baris-baris tersebut dianggap duplikat berdasarkan kolom 'order_id' saja."
      ]
    },
    {
      "cell_type": "code",
      "execution_count": 34,
      "id": "d8e9a354",
      "metadata": {},
      "outputs": [
        {
          "data": {
            "text/html": [
              "<div>\n",
              "<style scoped>\n",
              "    .dataframe tbody tr th:only-of-type {\n",
              "        vertical-align: middle;\n",
              "    }\n",
              "\n",
              "    .dataframe tbody tr th {\n",
              "        vertical-align: top;\n",
              "    }\n",
              "\n",
              "    .dataframe thead th {\n",
              "        text-align: right;\n",
              "    }\n",
              "</style>\n",
              "<table border=\"1\" class=\"dataframe\">\n",
              "  <thead>\n",
              "    <tr style=\"text-align: right;\">\n",
              "      <th></th>\n",
              "      <th>order_item_id</th>\n",
              "      <th>price</th>\n",
              "      <th>freight_value</th>\n",
              "    </tr>\n",
              "  </thead>\n",
              "  <tbody>\n",
              "    <tr>\n",
              "      <th>count</th>\n",
              "      <td>112650.000000</td>\n",
              "      <td>112650.000000</td>\n",
              "      <td>112650.000000</td>\n",
              "    </tr>\n",
              "    <tr>\n",
              "      <th>mean</th>\n",
              "      <td>1.197834</td>\n",
              "      <td>120.653739</td>\n",
              "      <td>19.990320</td>\n",
              "    </tr>\n",
              "    <tr>\n",
              "      <th>std</th>\n",
              "      <td>0.705124</td>\n",
              "      <td>183.633928</td>\n",
              "      <td>15.806405</td>\n",
              "    </tr>\n",
              "    <tr>\n",
              "      <th>min</th>\n",
              "      <td>1.000000</td>\n",
              "      <td>0.850000</td>\n",
              "      <td>0.000000</td>\n",
              "    </tr>\n",
              "    <tr>\n",
              "      <th>25%</th>\n",
              "      <td>1.000000</td>\n",
              "      <td>39.900000</td>\n",
              "      <td>13.080000</td>\n",
              "    </tr>\n",
              "    <tr>\n",
              "      <th>50%</th>\n",
              "      <td>1.000000</td>\n",
              "      <td>74.990000</td>\n",
              "      <td>16.260000</td>\n",
              "    </tr>\n",
              "    <tr>\n",
              "      <th>75%</th>\n",
              "      <td>1.000000</td>\n",
              "      <td>134.900000</td>\n",
              "      <td>21.150000</td>\n",
              "    </tr>\n",
              "    <tr>\n",
              "      <th>max</th>\n",
              "      <td>21.000000</td>\n",
              "      <td>6735.000000</td>\n",
              "      <td>409.680000</td>\n",
              "    </tr>\n",
              "  </tbody>\n",
              "</table>\n",
              "</div>"
            ],
            "text/plain": [
              "       order_item_id          price  freight_value\n",
              "count  112650.000000  112650.000000  112650.000000\n",
              "mean        1.197834     120.653739      19.990320\n",
              "std         0.705124     183.633928      15.806405\n",
              "min         1.000000       0.850000       0.000000\n",
              "25%         1.000000      39.900000      13.080000\n",
              "50%         1.000000      74.990000      16.260000\n",
              "75%         1.000000     134.900000      21.150000\n",
              "max        21.000000    6735.000000     409.680000"
            ]
          },
          "execution_count": 34,
          "metadata": {},
          "output_type": "execute_result"
        }
      ],
      "source": [
        "# Memuat parameter statistik deskriptif\n",
        "order_items_df.describe()"
      ]
    },
    {
      "cell_type": "markdown",
      "id": "a89fa735",
      "metadata": {},
      "source": [
        "### Assessing Products Data"
      ]
    },
    {
      "cell_type": "code",
      "execution_count": 35,
      "id": "b74f33ba",
      "metadata": {},
      "outputs": [
        {
          "name": "stdout",
          "output_type": "stream",
          "text": [
            "<class 'pandas.core.frame.DataFrame'>\n",
            "RangeIndex: 32951 entries, 0 to 32950\n",
            "Data columns (total 9 columns):\n",
            " #   Column                      Non-Null Count  Dtype  \n",
            "---  ------                      --------------  -----  \n",
            " 0   product_id                  32951 non-null  object \n",
            " 1   product_category_name       32341 non-null  object \n",
            " 2   product_name_lenght         32341 non-null  float64\n",
            " 3   product_description_lenght  32341 non-null  float64\n",
            " 4   product_photos_qty          32341 non-null  float64\n",
            " 5   product_weight_g            32949 non-null  float64\n",
            " 6   product_length_cm           32949 non-null  float64\n",
            " 7   product_height_cm           32949 non-null  float64\n",
            " 8   product_width_cm            32949 non-null  float64\n",
            "dtypes: float64(7), object(2)\n",
            "memory usage: 2.3+ MB\n"
          ]
        }
      ],
      "source": [
        "# Memuat informasi data products_df\n",
        "products_df.info()"
      ]
    },
    {
      "cell_type": "code",
      "execution_count": 36,
      "id": "1ae5bf2c",
      "metadata": {},
      "outputs": [
        {
          "data": {
            "text/plain": [
              "product_id                      0\n",
              "product_category_name         610\n",
              "product_name_lenght           610\n",
              "product_description_lenght    610\n",
              "product_photos_qty            610\n",
              "product_weight_g                2\n",
              "product_length_cm               2\n",
              "product_height_cm               2\n",
              "product_width_cm                2\n",
              "dtype: int64"
            ]
          },
          "execution_count": 36,
          "metadata": {},
          "output_type": "execute_result"
        }
      ],
      "source": [
        "# Count missing values\n",
        "products_df.isna().sum()"
      ]
    },
    {
      "cell_type": "code",
      "execution_count": 37,
      "id": "531027af",
      "metadata": {},
      "outputs": [
        {
          "name": "stdout",
          "output_type": "stream",
          "text": [
            "Duplicated Data:  0\n"
          ]
        }
      ],
      "source": [
        "# Count duplicated data\n",
        "print(\"Duplicated Data: \",products_df.duplicated().sum())"
      ]
    },
    {
      "cell_type": "markdown",
      "id": "0111f387",
      "metadata": {},
      "source": [
        "Tidak ada duplicated data di dalam data products_df"
      ]
    },
    {
      "cell_type": "code",
      "execution_count": 38,
      "id": "14aaea22",
      "metadata": {},
      "outputs": [
        {
          "data": {
            "text/html": [
              "<div>\n",
              "<style scoped>\n",
              "    .dataframe tbody tr th:only-of-type {\n",
              "        vertical-align: middle;\n",
              "    }\n",
              "\n",
              "    .dataframe tbody tr th {\n",
              "        vertical-align: top;\n",
              "    }\n",
              "\n",
              "    .dataframe thead th {\n",
              "        text-align: right;\n",
              "    }\n",
              "</style>\n",
              "<table border=\"1\" class=\"dataframe\">\n",
              "  <thead>\n",
              "    <tr style=\"text-align: right;\">\n",
              "      <th></th>\n",
              "      <th>product_id</th>\n",
              "      <th>product_category_name</th>\n",
              "      <th>product_name_lenght</th>\n",
              "      <th>product_description_lenght</th>\n",
              "      <th>product_photos_qty</th>\n",
              "      <th>product_weight_g</th>\n",
              "      <th>product_length_cm</th>\n",
              "      <th>product_height_cm</th>\n",
              "      <th>product_width_cm</th>\n",
              "    </tr>\n",
              "  </thead>\n",
              "  <tbody>\n",
              "    <tr>\n",
              "      <th>count</th>\n",
              "      <td>32951</td>\n",
              "      <td>32341</td>\n",
              "      <td>32341.000000</td>\n",
              "      <td>32341.000000</td>\n",
              "      <td>32341.000000</td>\n",
              "      <td>32949.000000</td>\n",
              "      <td>32949.000000</td>\n",
              "      <td>32949.000000</td>\n",
              "      <td>32949.000000</td>\n",
              "    </tr>\n",
              "    <tr>\n",
              "      <th>unique</th>\n",
              "      <td>32951</td>\n",
              "      <td>73</td>\n",
              "      <td>NaN</td>\n",
              "      <td>NaN</td>\n",
              "      <td>NaN</td>\n",
              "      <td>NaN</td>\n",
              "      <td>NaN</td>\n",
              "      <td>NaN</td>\n",
              "      <td>NaN</td>\n",
              "    </tr>\n",
              "    <tr>\n",
              "      <th>top</th>\n",
              "      <td>1e9e8ef04dbcff4541ed26657ea517e5</td>\n",
              "      <td>cama_mesa_banho</td>\n",
              "      <td>NaN</td>\n",
              "      <td>NaN</td>\n",
              "      <td>NaN</td>\n",
              "      <td>NaN</td>\n",
              "      <td>NaN</td>\n",
              "      <td>NaN</td>\n",
              "      <td>NaN</td>\n",
              "    </tr>\n",
              "    <tr>\n",
              "      <th>freq</th>\n",
              "      <td>1</td>\n",
              "      <td>3029</td>\n",
              "      <td>NaN</td>\n",
              "      <td>NaN</td>\n",
              "      <td>NaN</td>\n",
              "      <td>NaN</td>\n",
              "      <td>NaN</td>\n",
              "      <td>NaN</td>\n",
              "      <td>NaN</td>\n",
              "    </tr>\n",
              "    <tr>\n",
              "      <th>mean</th>\n",
              "      <td>NaN</td>\n",
              "      <td>NaN</td>\n",
              "      <td>48.476949</td>\n",
              "      <td>771.495285</td>\n",
              "      <td>2.188986</td>\n",
              "      <td>2276.472488</td>\n",
              "      <td>30.815078</td>\n",
              "      <td>16.937661</td>\n",
              "      <td>23.196728</td>\n",
              "    </tr>\n",
              "    <tr>\n",
              "      <th>std</th>\n",
              "      <td>NaN</td>\n",
              "      <td>NaN</td>\n",
              "      <td>10.245741</td>\n",
              "      <td>635.115225</td>\n",
              "      <td>1.736766</td>\n",
              "      <td>4282.038731</td>\n",
              "      <td>16.914458</td>\n",
              "      <td>13.637554</td>\n",
              "      <td>12.079047</td>\n",
              "    </tr>\n",
              "    <tr>\n",
              "      <th>min</th>\n",
              "      <td>NaN</td>\n",
              "      <td>NaN</td>\n",
              "      <td>5.000000</td>\n",
              "      <td>4.000000</td>\n",
              "      <td>1.000000</td>\n",
              "      <td>0.000000</td>\n",
              "      <td>7.000000</td>\n",
              "      <td>2.000000</td>\n",
              "      <td>6.000000</td>\n",
              "    </tr>\n",
              "    <tr>\n",
              "      <th>25%</th>\n",
              "      <td>NaN</td>\n",
              "      <td>NaN</td>\n",
              "      <td>42.000000</td>\n",
              "      <td>339.000000</td>\n",
              "      <td>1.000000</td>\n",
              "      <td>300.000000</td>\n",
              "      <td>18.000000</td>\n",
              "      <td>8.000000</td>\n",
              "      <td>15.000000</td>\n",
              "    </tr>\n",
              "    <tr>\n",
              "      <th>50%</th>\n",
              "      <td>NaN</td>\n",
              "      <td>NaN</td>\n",
              "      <td>51.000000</td>\n",
              "      <td>595.000000</td>\n",
              "      <td>1.000000</td>\n",
              "      <td>700.000000</td>\n",
              "      <td>25.000000</td>\n",
              "      <td>13.000000</td>\n",
              "      <td>20.000000</td>\n",
              "    </tr>\n",
              "    <tr>\n",
              "      <th>75%</th>\n",
              "      <td>NaN</td>\n",
              "      <td>NaN</td>\n",
              "      <td>57.000000</td>\n",
              "      <td>972.000000</td>\n",
              "      <td>3.000000</td>\n",
              "      <td>1900.000000</td>\n",
              "      <td>38.000000</td>\n",
              "      <td>21.000000</td>\n",
              "      <td>30.000000</td>\n",
              "    </tr>\n",
              "    <tr>\n",
              "      <th>max</th>\n",
              "      <td>NaN</td>\n",
              "      <td>NaN</td>\n",
              "      <td>76.000000</td>\n",
              "      <td>3992.000000</td>\n",
              "      <td>20.000000</td>\n",
              "      <td>40425.000000</td>\n",
              "      <td>105.000000</td>\n",
              "      <td>105.000000</td>\n",
              "      <td>118.000000</td>\n",
              "    </tr>\n",
              "  </tbody>\n",
              "</table>\n",
              "</div>"
            ],
            "text/plain": [
              "                              product_id product_category_name  \\\n",
              "count                              32951                 32341   \n",
              "unique                             32951                    73   \n",
              "top     1e9e8ef04dbcff4541ed26657ea517e5       cama_mesa_banho   \n",
              "freq                                   1                  3029   \n",
              "mean                                 NaN                   NaN   \n",
              "std                                  NaN                   NaN   \n",
              "min                                  NaN                   NaN   \n",
              "25%                                  NaN                   NaN   \n",
              "50%                                  NaN                   NaN   \n",
              "75%                                  NaN                   NaN   \n",
              "max                                  NaN                   NaN   \n",
              "\n",
              "        product_name_lenght  product_description_lenght  product_photos_qty  \\\n",
              "count          32341.000000                32341.000000        32341.000000   \n",
              "unique                  NaN                         NaN                 NaN   \n",
              "top                     NaN                         NaN                 NaN   \n",
              "freq                    NaN                         NaN                 NaN   \n",
              "mean              48.476949                  771.495285            2.188986   \n",
              "std               10.245741                  635.115225            1.736766   \n",
              "min                5.000000                    4.000000            1.000000   \n",
              "25%               42.000000                  339.000000            1.000000   \n",
              "50%               51.000000                  595.000000            1.000000   \n",
              "75%               57.000000                  972.000000            3.000000   \n",
              "max               76.000000                 3992.000000           20.000000   \n",
              "\n",
              "        product_weight_g  product_length_cm  product_height_cm  \\\n",
              "count       32949.000000       32949.000000       32949.000000   \n",
              "unique               NaN                NaN                NaN   \n",
              "top                  NaN                NaN                NaN   \n",
              "freq                 NaN                NaN                NaN   \n",
              "mean         2276.472488          30.815078          16.937661   \n",
              "std          4282.038731          16.914458          13.637554   \n",
              "min             0.000000           7.000000           2.000000   \n",
              "25%           300.000000          18.000000           8.000000   \n",
              "50%           700.000000          25.000000          13.000000   \n",
              "75%          1900.000000          38.000000          21.000000   \n",
              "max         40425.000000         105.000000         105.000000   \n",
              "\n",
              "        product_width_cm  \n",
              "count       32949.000000  \n",
              "unique               NaN  \n",
              "top                  NaN  \n",
              "freq                 NaN  \n",
              "mean           23.196728  \n",
              "std            12.079047  \n",
              "min             6.000000  \n",
              "25%            15.000000  \n",
              "50%            20.000000  \n",
              "75%            30.000000  \n",
              "max           118.000000  "
            ]
          },
          "execution_count": 38,
          "metadata": {},
          "output_type": "execute_result"
        }
      ],
      "source": [
        "# Memuat parameter statistik deskriptif\n",
        "products_df.describe(include=\"all\")"
      ]
    },
    {
      "cell_type": "markdown",
      "id": "c745ea9c",
      "metadata": {},
      "source": [
        "Products:\n",
        "- Banyak missing values pada hampir semua kolom kecuali `product_id`\n",
        "- Kolom `product_name_lenght`, `product_description_lenght`, dan `product_photos_qty` seharusnya bertipe integer\n",
        "- Kesalahan penulisan pada kolom `product_name_lenght` dan `product_description_lenght`"
      ]
    },
    {
      "cell_type": "markdown",
      "id": "2c36c3c6",
      "metadata": {},
      "source": [
        "### Assessing Product Category"
      ]
    },
    {
      "cell_type": "code",
      "execution_count": 39,
      "id": "33dd9aaa",
      "metadata": {},
      "outputs": [
        {
          "name": "stdout",
          "output_type": "stream",
          "text": [
            "<class 'pandas.core.frame.DataFrame'>\n",
            "RangeIndex: 71 entries, 0 to 70\n",
            "Data columns (total 2 columns):\n",
            " #   Column                         Non-Null Count  Dtype \n",
            "---  ------                         --------------  ----- \n",
            " 0   product_category_name          71 non-null     object\n",
            " 1   product_category_name_english  71 non-null     object\n",
            "dtypes: object(2)\n",
            "memory usage: 1.2+ KB\n"
          ]
        }
      ],
      "source": [
        "# Memuat informasi data product_category_df\n",
        "product_category_df.info()"
      ]
    },
    {
      "cell_type": "code",
      "execution_count": 40,
      "id": "f0e57ec8",
      "metadata": {},
      "outputs": [
        {
          "data": {
            "text/plain": [
              "product_category_name            0\n",
              "product_category_name_english    0\n",
              "dtype: int64"
            ]
          },
          "execution_count": 40,
          "metadata": {},
          "output_type": "execute_result"
        }
      ],
      "source": [
        "# count missing values\n",
        "product_category_df.isna().sum()"
      ]
    },
    {
      "cell_type": "code",
      "execution_count": 41,
      "id": "23147a4a",
      "metadata": {},
      "outputs": [
        {
          "name": "stdout",
          "output_type": "stream",
          "text": [
            "Duplicated Data:  0\n"
          ]
        }
      ],
      "source": [
        "# Count duplicated data\n",
        "print(\"Duplicated Data: \",product_category_df.duplicated().sum())"
      ]
    },
    {
      "cell_type": "code",
      "execution_count": 42,
      "id": "fe682b8e",
      "metadata": {},
      "outputs": [
        {
          "data": {
            "text/html": [
              "<div>\n",
              "<style scoped>\n",
              "    .dataframe tbody tr th:only-of-type {\n",
              "        vertical-align: middle;\n",
              "    }\n",
              "\n",
              "    .dataframe tbody tr th {\n",
              "        vertical-align: top;\n",
              "    }\n",
              "\n",
              "    .dataframe thead th {\n",
              "        text-align: right;\n",
              "    }\n",
              "</style>\n",
              "<table border=\"1\" class=\"dataframe\">\n",
              "  <thead>\n",
              "    <tr style=\"text-align: right;\">\n",
              "      <th></th>\n",
              "      <th>product_category_name</th>\n",
              "      <th>product_category_name_english</th>\n",
              "    </tr>\n",
              "  </thead>\n",
              "  <tbody>\n",
              "    <tr>\n",
              "      <th>count</th>\n",
              "      <td>71</td>\n",
              "      <td>71</td>\n",
              "    </tr>\n",
              "    <tr>\n",
              "      <th>unique</th>\n",
              "      <td>71</td>\n",
              "      <td>71</td>\n",
              "    </tr>\n",
              "    <tr>\n",
              "      <th>top</th>\n",
              "      <td>beleza_saude</td>\n",
              "      <td>health_beauty</td>\n",
              "    </tr>\n",
              "    <tr>\n",
              "      <th>freq</th>\n",
              "      <td>1</td>\n",
              "      <td>1</td>\n",
              "    </tr>\n",
              "  </tbody>\n",
              "</table>\n",
              "</div>"
            ],
            "text/plain": [
              "       product_category_name product_category_name_english\n",
              "count                     71                            71\n",
              "unique                    71                            71\n",
              "top             beleza_saude                 health_beauty\n",
              "freq                       1                             1"
            ]
          },
          "execution_count": 42,
          "metadata": {},
          "output_type": "execute_result"
        }
      ],
      "source": [
        "# Memuat parameter statistik deskriptif\n",
        "product_category_df.describe(include=\"all\")"
      ]
    },
    {
      "cell_type": "markdown",
      "id": "5a9c6b1c",
      "metadata": {},
      "source": [
        "#### Insight Assessing Data\n",
        "\n",
        "**Customers:**  \n",
        "- Tidak ada missing values, data tidak akurat, maupun data duplikat\n",
        "\n",
        "**Geolocation:**  \n",
        "- Tidak ada missing values, tidak ada data tidak akurat  \n",
        "- Banyak data duplikat karena hanya memuat prefix kode pos, selain itu “sao paulo” dan “são paulo” masih dianggap berbeda\n",
        "\n",
        "**Orders:**  \n",
        "- Kolom waktu (purchase, approved, delivered) seharusnya menjadi tipe datetime\n",
        "\n",
        "**Order Items:**  \n",
        "- Banyak data duplikat karena satu pesanan bisa berisi beberapa item\n",
        "\n",
        "**Products:**  \n",
        "- Banyak missing values selain di kolom product_id  \n",
        "- Kolom product_name_lenght, product_description_lenght, dan product_photos_qty seharusnya bertipe integer  \n",
        "- Ada kesalahan penulisan di kolom product_name_lenght dan product_description_lenght"
      ]
    },
    {
      "cell_type": "markdown",
      "id": "d389e521",
      "metadata": {},
      "source": [
        "### Cleaning Data"
      ]
    },
    {
      "cell_type": "markdown",
      "id": "81c3fd7e",
      "metadata": {},
      "source": [
        "#### Cleaning Data Geolocation"
      ]
    },
    {
      "cell_type": "markdown",
      "id": "5ceb7b7b",
      "metadata": {},
      "source": [
        "Karena ada nama kota yang sama namun dihitung berbeda karena alphabet diacritic (seperti ã, ç, é), kita akan membersihkan data tersebut dengan mengubah alphabet diacritic menjadi alphabet biasa."
      ]
    },
    {
      "cell_type": "code",
      "execution_count": 43,
      "id": "8176c675",
      "metadata": {},
      "outputs": [],
      "source": [
        "# Menggunakan unidecode untuk mengubah karakter non-ASCII\n",
        "def remove_diacritic(column):\n",
        "    column_space = ' '.join(column.split())\n",
        "    return unidecode.unidecode(column_space.lower())"
      ]
    },
    {
      "cell_type": "code",
      "execution_count": 44,
      "id": "e4feb111",
      "metadata": {},
      "outputs": [],
      "source": [
        "# Menerapkan remove_diacritic kedalam geolocation_df\n",
        "geolocation_df['geolocation_city'] = geolocation_df['geolocation_city'].apply(remove_diacritic)"
      ]
    },
    {
      "cell_type": "markdown",
      "id": "82338e6c",
      "metadata": {},
      "source": [
        "Prefix zip code disimpan oleh dataset, meskipun suffix berbeda dimiliki oleh setiap daerah. Oleh karena itu, suffix tersebut perlu diidentifikasi agar latitude dan longitude dapat ditentukan secara akurat."
      ]
    },
    {
      "cell_type": "code",
      "execution_count": 45,
      "id": "0658ebff",
      "metadata": {},
      "outputs": [
        {
          "data": {
            "text/plain": [
              "geolocation_zip_code_prefix\n",
              "24220    1146\n",
              "24230    1102\n",
              "38400     965\n",
              "35500     907\n",
              "11680     879\n",
              "         ... \n",
              "20056       1\n",
              "76370       1\n",
              "63012       1\n",
              "76372       1\n",
              "32635       1\n",
              "Length: 19015, dtype: int64"
            ]
          },
          "execution_count": 45,
          "metadata": {},
          "output_type": "execute_result"
        }
      ],
      "source": [
        "# Count duplicated data dalam prefix zip code \n",
        "geolocation_df.groupby('geolocation_zip_code_prefix').size().sort_values(ascending=False)"
      ]
    },
    {
      "cell_type": "code",
      "execution_count": 46,
      "id": "f2d1f320",
      "metadata": {},
      "outputs": [
        {
          "data": {
            "text/html": [
              "<div>\n",
              "<style scoped>\n",
              "    .dataframe tbody tr th:only-of-type {\n",
              "        vertical-align: middle;\n",
              "    }\n",
              "\n",
              "    .dataframe tbody tr th {\n",
              "        vertical-align: top;\n",
              "    }\n",
              "\n",
              "    .dataframe thead th {\n",
              "        text-align: right;\n",
              "    }\n",
              "</style>\n",
              "<table border=\"1\" class=\"dataframe\">\n",
              "  <thead>\n",
              "    <tr style=\"text-align: right;\">\n",
              "      <th></th>\n",
              "      <th>geolocation_zip_code_prefix</th>\n",
              "      <th>geolocation_lat</th>\n",
              "      <th>geolocation_lng</th>\n",
              "      <th>geolocation_city</th>\n",
              "      <th>geolocation_state</th>\n",
              "    </tr>\n",
              "  </thead>\n",
              "  <tbody>\n",
              "    <tr>\n",
              "      <th>390061</th>\n",
              "      <td>18540</td>\n",
              "      <td>-23.213643</td>\n",
              "      <td>-47.522045</td>\n",
              "      <td>porto feliz</td>\n",
              "      <td>SP</td>\n",
              "    </tr>\n",
              "    <tr>\n",
              "      <th>390065</th>\n",
              "      <td>18540</td>\n",
              "      <td>-23.214679</td>\n",
              "      <td>-47.507507</td>\n",
              "      <td>porto feliz</td>\n",
              "      <td>SP</td>\n",
              "    </tr>\n",
              "    <tr>\n",
              "      <th>390069</th>\n",
              "      <td>18540</td>\n",
              "      <td>-23.229738</td>\n",
              "      <td>-47.520951</td>\n",
              "      <td>porto feliz</td>\n",
              "      <td>SP</td>\n",
              "    </tr>\n",
              "    <tr>\n",
              "      <th>390071</th>\n",
              "      <td>18540</td>\n",
              "      <td>-23.219647</td>\n",
              "      <td>-47.523717</td>\n",
              "      <td>porto feliz</td>\n",
              "      <td>SP</td>\n",
              "    </tr>\n",
              "    <tr>\n",
              "      <th>390073</th>\n",
              "      <td>18540</td>\n",
              "      <td>-23.186414</td>\n",
              "      <td>-47.534778</td>\n",
              "      <td>porto feliz</td>\n",
              "      <td>SP</td>\n",
              "    </tr>\n",
              "  </tbody>\n",
              "</table>\n",
              "</div>"
            ],
            "text/plain": [
              "        geolocation_zip_code_prefix  geolocation_lat  geolocation_lng  \\\n",
              "390061                        18540       -23.213643       -47.522045   \n",
              "390065                        18540       -23.214679       -47.507507   \n",
              "390069                        18540       -23.229738       -47.520951   \n",
              "390071                        18540       -23.219647       -47.523717   \n",
              "390073                        18540       -23.186414       -47.534778   \n",
              "\n",
              "       geolocation_city geolocation_state  \n",
              "390061      porto feliz                SP  \n",
              "390065      porto feliz                SP  \n",
              "390069      porto feliz                SP  \n",
              "390071      porto feliz                SP  \n",
              "390073      porto feliz                SP  "
            ]
          },
          "execution_count": 46,
          "metadata": {},
          "output_type": "execute_result"
        }
      ],
      "source": [
        "# Contoh duplikasi data dengan kode zip 18540\n",
        "geolocation_df[geolocation_df['geolocation_zip_code_prefix'] == 18540].head()"
      ]
    },
    {
      "cell_type": "code",
      "execution_count": 47,
      "id": "722e1390",
      "metadata": {},
      "outputs": [
        {
          "data": {
            "text/plain": [
              "(8, 2)"
            ]
          },
          "execution_count": 47,
          "metadata": {},
          "output_type": "execute_result"
        }
      ],
      "source": [
        "# Pencarian kode pos yang dimiliki oleh dua negara bagian menjadi masalah karena biasanya kode pos hanya dimiliki oleh satu wilayah.\n",
        "zip_code_in_other_location = geolocation_df.groupby(['geolocation_zip_code_prefix'])['geolocation_state'].nunique().reset_index(name='count')\n",
        "zip_code_in_other_location[zip_code_in_other_location['count']>= 2].shape"
      ]
    },
    {
      "cell_type": "markdown",
      "id": "2210f3a4",
      "metadata": {},
      "source": [
        "Delapan baris data ditemukan dengan kode pos yang sama untuk beberapa negara bagian."
      ]
    },
    {
      "cell_type": "code",
      "execution_count": 48,
      "id": "6c8001ca",
      "metadata": {},
      "outputs": [
        {
          "name": "stdout",
          "output_type": "stream",
          "text": [
            "       geolocation_zip_code_prefix  count\n",
            "367                           2116      2\n",
            "1668                          4011      2\n",
            "6506                         21550      2\n",
            "6696                         23056      2\n",
            "14664                        72915      2\n",
            "15879                        78557      2\n",
            "16146                        79750      2\n",
            "16256                        80630      2\n"
          ]
        }
      ],
      "source": [
        "# Memuat kode pos yang memiliki 2 lokasi\n",
        "print(zip_code_in_other_location[zip_code_in_other_location['count']>= 2])"
      ]
    },
    {
      "cell_type": "markdown",
      "id": "164c2179",
      "metadata": {},
      "source": [
        "Karena dataset hanya menyimpan awal kode pos (prefix), satu kode pos dapat digunakan untuk wilayah yang berbeda. Oleh karena itu, hanya kode pos dari wilayah yang paling sering muncul dalam data yang akan disimpan."
      ]
    },
    {
      "cell_type": "code",
      "execution_count": 49,
      "id": "c396c714",
      "metadata": {},
      "outputs": [],
      "source": [
        "# Hapus kode negara bagian yang duplikat dan simpan hanya untuk negara bagian yang paling sering muncul.\n",
        "max_state = geolocation_df.groupby(['geolocation_zip_code_prefix','geolocation_state']).size().reset_index(name='count').drop_duplicates(subset = 'geolocation_zip_code_prefix').drop('count',axis=1)"
      ]
    },
    {
      "cell_type": "markdown",
      "id": "4029714b",
      "metadata": {},
      "source": [
        "**Setelah kode pos dibuat unik, hitung median latitude dan longitude untuk merepresentasikan kode pos pada peta.**"
      ]
    },
    {
      "cell_type": "code",
      "execution_count": 50,
      "id": "bc0e8df8",
      "metadata": {},
      "outputs": [],
      "source": [
        "# Kelompokkan data berdasarkan zip_code, city, dan state, lalu hitung latitude dan longitude menggunakan nilai median masing-masing.\n",
        "geolocation_grouping = geolocation_df.groupby(['geolocation_zip_code_prefix','geolocation_city','geolocation_state'])[['geolocation_lat','geolocation_lng']].median().reset_index()\n",
        "# Menggabungkan dataframe dengan data frekuensi zip code paling sering muncul\n",
        "geolocation_grouping = geolocation_grouping.merge(max_state,on=['geolocation_zip_code_prefix','geolocation_state'],how='inner')"
      ]
    },
    {
      "cell_type": "code",
      "execution_count": 51,
      "id": "ceffd80f",
      "metadata": {},
      "outputs": [],
      "source": [
        "# Merge data geolocation dengan customer\n",
        "customers_geolocation = customers_df.merge(geolocation_grouping,left_on='customer_zip_code_prefix',right_on='geolocation_zip_code_prefix',how='inner')"
      ]
    },
    {
      "cell_type": "markdown",
      "id": "f08e4760",
      "metadata": {},
      "source": [
        "#### Cleaning Orders Data\n",
        "Mengubah beberapa kolom menjadi format timestamp agar data tersebut bisa lebih mudah diolah atau dianalisis berdasarkan waktu"
      ]
    },
    {
      "cell_type": "code",
      "execution_count": 52,
      "id": "b95689f3",
      "metadata": {},
      "outputs": [],
      "source": [
        "datetime_columns = ['order_purchase_timestamp','order_approved_at',\n",
        "                     'order_delivered_carrier_date', 'order_delivered_customer_date', 'order_estimated_delivery_date']\n",
        "for column in datetime_columns:\n",
        "    orders_df[column] = pd.to_datetime(orders_df[column])"
      ]
    },
    {
      "cell_type": "markdown",
      "id": "f128d84f",
      "metadata": {},
      "source": [
        "#### Cleaning Order Items Data\n",
        "Data pada order items mengandung banyak duplikat karena satu pesanan bisa mencakup berbagai produk. Oleh karena itu, perlu dihitung total harga, nilai pengiriman, dan batas maksimal tanggal pengiriman (shipping limit date)."
      ]
    },
    {
      "cell_type": "code",
      "execution_count": 53,
      "id": "3994e9df",
      "metadata": {},
      "outputs": [
        {
          "name": "stderr",
          "output_type": "stream",
          "text": [
            "C:\\Users\\royan\\AppData\\Local\\Temp\\ipykernel_25244\\3528457768.py:1: FutureWarning:\n",
            "\n",
            "The provided callable <built-in function sum> is currently using SeriesGroupBy.sum. In a future version of pandas, the provided callable will be used directly. To keep current behavior pass the string \"sum\" instead.\n",
            "\n",
            "C:\\Users\\royan\\AppData\\Local\\Temp\\ipykernel_25244\\3528457768.py:1: FutureWarning:\n",
            "\n",
            "The provided callable <built-in function sum> is currently using SeriesGroupBy.sum. In a future version of pandas, the provided callable will be used directly. To keep current behavior pass the string \"sum\" instead.\n",
            "\n",
            "C:\\Users\\royan\\AppData\\Local\\Temp\\ipykernel_25244\\3528457768.py:1: FutureWarning:\n",
            "\n",
            "The provided callable <built-in function max> is currently using SeriesGroupBy.max. In a future version of pandas, the provided callable will be used directly. To keep current behavior pass the string \"max\" instead.\n",
            "\n"
          ]
        }
      ],
      "source": [
        "total_per_order = order_items_df.groupby('order_id').agg({'price':sum,'freight_value':sum,'shipping_limit_date':max }).reset_index()"
      ]
    },
    {
      "cell_type": "code",
      "execution_count": 54,
      "id": "c7c13147",
      "metadata": {},
      "outputs": [
        {
          "data": {
            "text/plain": [
              "<Axes: xlabel='price', ylabel='freight_value'>"
            ]
          },
          "execution_count": 54,
          "metadata": {},
          "output_type": "execute_result"
        },
        {
          "data": {
            "image/png": "[encoded data removed]",
            "text/plain": [
              "<Figure size 640x480 with 1 Axes>"
            ]
          },
          "metadata": {},
          "output_type": "display_data"
        }
      ],
      "source": [
        "sns.scatterplot(x='price',y='freight_value',data=total_per_order)"
      ]
    },
    {
      "cell_type": "markdown",
      "id": "28f8b2f3",
      "metadata": {},
      "source": [
        "Terdapat outlier yang signifikan, sehingga perlu dilakukan penghapusan data yang berada di luar nilai 99 persen persentil untuk menjaga konsistensi analisis."
      ]
    },
    {
      "cell_type": "code",
      "execution_count": 55,
      "id": "b2dd7d44",
      "metadata": {},
      "outputs": [
        {
          "data": {
            "text/html": [
              "<div>\n",
              "<style scoped>\n",
              "    .dataframe tbody tr th:only-of-type {\n",
              "        vertical-align: middle;\n",
              "    }\n",
              "\n",
              "    .dataframe tbody tr th {\n",
              "        vertical-align: top;\n",
              "    }\n",
              "\n",
              "    .dataframe thead th {\n",
              "        text-align: right;\n",
              "    }\n",
              "</style>\n",
              "<table border=\"1\" class=\"dataframe\">\n",
              "  <thead>\n",
              "    <tr style=\"text-align: right;\">\n",
              "      <th></th>\n",
              "      <th>price</th>\n",
              "      <th>freight_value</th>\n",
              "    </tr>\n",
              "  </thead>\n",
              "  <tbody>\n",
              "    <tr>\n",
              "      <th>count</th>\n",
              "      <td>98666.000000</td>\n",
              "      <td>98666.000000</td>\n",
              "    </tr>\n",
              "    <tr>\n",
              "      <th>mean</th>\n",
              "      <td>137.754076</td>\n",
              "      <td>22.823562</td>\n",
              "    </tr>\n",
              "    <tr>\n",
              "      <th>std</th>\n",
              "      <td>210.645145</td>\n",
              "      <td>21.650909</td>\n",
              "    </tr>\n",
              "    <tr>\n",
              "      <th>min</th>\n",
              "      <td>0.850000</td>\n",
              "      <td>0.000000</td>\n",
              "    </tr>\n",
              "    <tr>\n",
              "      <th>25%</th>\n",
              "      <td>45.900000</td>\n",
              "      <td>13.850000</td>\n",
              "    </tr>\n",
              "    <tr>\n",
              "      <th>50%</th>\n",
              "      <td>86.900000</td>\n",
              "      <td>17.170000</td>\n",
              "    </tr>\n",
              "    <tr>\n",
              "      <th>75%</th>\n",
              "      <td>149.900000</td>\n",
              "      <td>24.040000</td>\n",
              "    </tr>\n",
              "    <tr>\n",
              "      <th>max</th>\n",
              "      <td>13440.000000</td>\n",
              "      <td>1794.960000</td>\n",
              "    </tr>\n",
              "  </tbody>\n",
              "</table>\n",
              "</div>"
            ],
            "text/plain": [
              "              price  freight_value\n",
              "count  98666.000000   98666.000000\n",
              "mean     137.754076      22.823562\n",
              "std      210.645145      21.650909\n",
              "min        0.850000       0.000000\n",
              "25%       45.900000      13.850000\n",
              "50%       86.900000      17.170000\n",
              "75%      149.900000      24.040000\n",
              "max    13440.000000    1794.960000"
            ]
          },
          "execution_count": 55,
          "metadata": {},
          "output_type": "execute_result"
        }
      ],
      "source": [
        "total_per_order.describe()"
      ]
    },
    {
      "cell_type": "code",
      "execution_count": 56,
      "id": "385580cf",
      "metadata": {},
      "outputs": [],
      "source": [
        "# Remove Outliers\n",
        "freight_value_persentil = total_per_order['freight_value'].quantile(0.99)\n",
        "total_per_order = total_per_order[(total_per_order['price'] <= 5000) & (total_per_order['freight_value'] <= freight_value_persentil)]"
      ]
    },
    {
      "cell_type": "code",
      "execution_count": 57,
      "id": "9d974e0e",
      "metadata": {},
      "outputs": [
        {
          "data": {
            "text/html": [
              "<div>\n",
              "<style scoped>\n",
              "    .dataframe tbody tr th:only-of-type {\n",
              "        vertical-align: middle;\n",
              "    }\n",
              "\n",
              "    .dataframe tbody tr th {\n",
              "        vertical-align: top;\n",
              "    }\n",
              "\n",
              "    .dataframe thead th {\n",
              "        text-align: right;\n",
              "    }\n",
              "</style>\n",
              "<table border=\"1\" class=\"dataframe\">\n",
              "  <thead>\n",
              "    <tr style=\"text-align: right;\">\n",
              "      <th></th>\n",
              "      <th>price</th>\n",
              "      <th>freight_value</th>\n",
              "    </tr>\n",
              "  </thead>\n",
              "  <tbody>\n",
              "    <tr>\n",
              "      <th>count</th>\n",
              "      <td>97679.000000</td>\n",
              "      <td>97679.000000</td>\n",
              "    </tr>\n",
              "    <tr>\n",
              "      <th>mean</th>\n",
              "      <td>132.046700</td>\n",
              "      <td>21.423227</td>\n",
              "    </tr>\n",
              "    <tr>\n",
              "      <th>std</th>\n",
              "      <td>185.015685</td>\n",
              "      <td>14.133667</td>\n",
              "    </tr>\n",
              "    <tr>\n",
              "      <th>min</th>\n",
              "      <td>0.850000</td>\n",
              "      <td>0.000000</td>\n",
              "    </tr>\n",
              "    <tr>\n",
              "      <th>25%</th>\n",
              "      <td>45.900000</td>\n",
              "      <td>13.790000</td>\n",
              "    </tr>\n",
              "    <tr>\n",
              "      <th>50%</th>\n",
              "      <td>85.000000</td>\n",
              "      <td>17.070000</td>\n",
              "    </tr>\n",
              "    <tr>\n",
              "      <th>75%</th>\n",
              "      <td>149.900000</td>\n",
              "      <td>23.700000</td>\n",
              "    </tr>\n",
              "    <tr>\n",
              "      <th>max</th>\n",
              "      <td>4690.000000</td>\n",
              "      <td>104.980000</td>\n",
              "    </tr>\n",
              "  </tbody>\n",
              "</table>\n",
              "</div>"
            ],
            "text/plain": [
              "              price  freight_value\n",
              "count  97679.000000   97679.000000\n",
              "mean     132.046700      21.423227\n",
              "std      185.015685      14.133667\n",
              "min        0.850000       0.000000\n",
              "25%       45.900000      13.790000\n",
              "50%       85.000000      17.070000\n",
              "75%      149.900000      23.700000\n",
              "max     4690.000000     104.980000"
            ]
          },
          "execution_count": 57,
          "metadata": {},
          "output_type": "execute_result"
        }
      ],
      "source": [
        "total_per_order.describe()"
      ]
    },
    {
      "cell_type": "markdown",
      "id": "0d65e305",
      "metadata": {},
      "source": [
        "Outlier terlihat memiliki dampak signifikan terhadap perubahan data, misalnya harga rata-rata pesanan menjadi \\$132."
      ]
    },
    {
      "cell_type": "markdown",
      "id": "400bce77",
      "metadata": {},
      "source": [
        "#### Cleaning Products Data\n",
        "\n",
        "- Sebagian besar kolom kecuali product_id mengandung missing values  \n",
        "- Kolom `product_name_lenght`, `product_description_lenght`, dan `product_photos_qty` semestinya bertipe integer  \n",
        "- Ada penulisan yang keliru di kolom `product_name_lenght` dan `product_description_lenght`"
      ]
    },
    {
      "cell_type": "code",
      "execution_count": 58,
      "id": "68c6a07e",
      "metadata": {},
      "outputs": [],
      "source": [
        "# Ubah nama kolom yang typo\n",
        "products_df.rename(columns={'product_name_lenght': 'product_name_length',\n",
        "                            'product_description_lenght': 'product_description_length'},\n",
        "                   inplace=True)"
      ]
    },
    {
      "cell_type": "markdown",
      "id": "a8d46bef",
      "metadata": {},
      "source": [
        "Replace semua missing value dengan mean"
      ]
    },
    {
      "cell_type": "code",
      "execution_count": 59,
      "id": "690d201d",
      "metadata": {},
      "outputs": [
        {
          "name": "stderr",
          "output_type": "stream",
          "text": [
            "C:\\Users\\royan\\AppData\\Local\\Temp\\ipykernel_25244\\288154774.py:7: FutureWarning:\n",
            "\n",
            "A value is trying to be set on a copy of a DataFrame or Series through chained assignment using an inplace method.\n",
            "The behavior will change in pandas 3.0. This inplace method will never work because the intermediate object on which we are setting values always behaves as a copy.\n",
            "\n",
            "For example, when doing 'df[col].method(value, inplace=True)', try using 'df.method({col: value}, inplace=True)' or df[col] = df[col].method(value) instead, to perform the operation inplace on the original object.\n",
            "\n",
            "\n",
            "\n"
          ]
        }
      ],
      "source": [
        "columns = [\n",
        "    'product_name_length', 'product_description_length', 'product_photos_qty',\n",
        "    'product_weight_g', 'product_length_cm', 'product_height_cm', 'product_width_cm'\n",
        "]\n",
        "\n",
        "for col in columns:\n",
        "    products_df[col].fillna(products_df[col].mean(), inplace=True)"
      ]
    },
    {
      "cell_type": "code",
      "execution_count": 60,
      "id": "2228f3a9",
      "metadata": {},
      "outputs": [
        {
          "data": {
            "text/plain": [
              "product_id                      0\n",
              "product_category_name         610\n",
              "product_name_length             0\n",
              "product_description_length      0\n",
              "product_photos_qty              0\n",
              "product_weight_g                0\n",
              "product_length_cm               0\n",
              "product_height_cm               0\n",
              "product_width_cm                0\n",
              "dtype: int64"
            ]
          },
          "execution_count": 60,
          "metadata": {},
          "output_type": "execute_result"
        }
      ],
      "source": [
        "products_df.isna().sum()"
      ]
    },
    {
      "cell_type": "markdown",
      "id": "4129389d",
      "metadata": {},
      "source": [
        "Fill product_category_name dengan metode interpolate"
      ]
    },
    {
      "cell_type": "code",
      "execution_count": 61,
      "id": "6614723d",
      "metadata": {},
      "outputs": [
        {
          "name": "stderr",
          "output_type": "stream",
          "text": [
            "C:\\Users\\royan\\AppData\\Local\\Temp\\ipykernel_25244\\686135949.py:1: FutureWarning:\n",
            "\n",
            "A value is trying to be set on a copy of a DataFrame or Series through chained assignment using an inplace method.\n",
            "The behavior will change in pandas 3.0. This inplace method will never work because the intermediate object on which we are setting values always behaves as a copy.\n",
            "\n",
            "For example, when doing 'df[col].method(value, inplace=True)', try using 'df.method({col: value}, inplace=True)' or df[col] = df[col].method(value) instead, to perform the operation inplace on the original object.\n",
            "\n",
            "\n",
            "\n",
            "C:\\Users\\royan\\AppData\\Local\\Temp\\ipykernel_25244\\686135949.py:1: FutureWarning:\n",
            "\n",
            "Series.interpolate with method=pad is deprecated and will raise in a future version. Use obj.ffill() or obj.bfill() instead.\n",
            "\n"
          ]
        }
      ],
      "source": [
        "products_df['product_category_name'].interpolate(method='pad', axis=0, limit_direction='forward', inplace=True)"
      ]
    },
    {
      "cell_type": "code",
      "execution_count": 62,
      "id": "6beaeb84",
      "metadata": {},
      "outputs": [
        {
          "data": {
            "text/plain": [
              "product_id                    0\n",
              "product_category_name         0\n",
              "product_name_length           0\n",
              "product_description_length    0\n",
              "product_photos_qty            0\n",
              "product_weight_g              0\n",
              "product_length_cm             0\n",
              "product_height_cm             0\n",
              "product_width_cm              0\n",
              "dtype: int64"
            ]
          },
          "execution_count": 62,
          "metadata": {},
          "output_type": "execute_result"
        }
      ],
      "source": [
        "products_df.isna().sum()"
      ]
    },
    {
      "cell_type": "markdown",
      "id": "e1819282",
      "metadata": {},
      "source": [
        "Ubah tipe data kolom `product_name_lenght`, `product_description_lenght`, dan `product_photos_qty` ke format integer agar data dapat diolah lebih efisien"
      ]
    },
    {
      "cell_type": "code",
      "execution_count": 63,
      "id": "092fc42f",
      "metadata": {},
      "outputs": [],
      "source": [
        "columns = ['product_name_length', 'product_description_length', 'product_photos_qty']\n",
        "\n",
        "for col in columns:\n",
        "    products_df[col] = products_df[col].astype(int)"
      ]
    },
    {
      "cell_type": "code",
      "execution_count": 64,
      "id": "a2f6e8b2",
      "metadata": {},
      "outputs": [
        {
          "name": "stdout",
          "output_type": "stream",
          "text": [
            "<class 'pandas.core.frame.DataFrame'>\n",
            "RangeIndex: 32951 entries, 0 to 32950\n",
            "Data columns (total 9 columns):\n",
            " #   Column                      Non-Null Count  Dtype  \n",
            "---  ------                      --------------  -----  \n",
            " 0   product_id                  32951 non-null  object \n",
            " 1   product_category_name       32951 non-null  object \n",
            " 2   product_name_length         32951 non-null  int32  \n",
            " 3   product_description_length  32951 non-null  int32  \n",
            " 4   product_photos_qty          32951 non-null  int32  \n",
            " 5   product_weight_g            32951 non-null  float64\n",
            " 6   product_length_cm           32951 non-null  float64\n",
            " 7   product_height_cm           32951 non-null  float64\n",
            " 8   product_width_cm            32951 non-null  float64\n",
            "dtypes: float64(4), int32(3), object(2)\n",
            "memory usage: 1.9+ MB\n"
          ]
        }
      ],
      "source": [
        "products_df.info()"
      ]
    },
    {
      "cell_type": "markdown",
      "id": "32a2121f",
      "metadata": {},
      "source": [
        "Merge `products_df` dan `product_category_df`"
      ]
    },
    {
      "cell_type": "code",
      "execution_count": 65,
      "id": "c175b091",
      "metadata": {},
      "outputs": [
        {
          "data": {
            "text/html": [
              "<div>\n",
              "<style scoped>\n",
              "    .dataframe tbody tr th:only-of-type {\n",
              "        vertical-align: middle;\n",
              "    }\n",
              "\n",
              "    .dataframe tbody tr th {\n",
              "        vertical-align: top;\n",
              "    }\n",
              "\n",
              "    .dataframe thead th {\n",
              "        text-align: right;\n",
              "    }\n",
              "</style>\n",
              "<table border=\"1\" class=\"dataframe\">\n",
              "  <thead>\n",
              "    <tr style=\"text-align: right;\">\n",
              "      <th></th>\n",
              "      <th>product_id</th>\n",
              "      <th>product_category_name</th>\n",
              "      <th>product_name_length</th>\n",
              "      <th>product_description_length</th>\n",
              "      <th>product_photos_qty</th>\n",
              "      <th>product_weight_g</th>\n",
              "      <th>product_length_cm</th>\n",
              "      <th>product_height_cm</th>\n",
              "      <th>product_width_cm</th>\n",
              "      <th>product_category_name_english</th>\n",
              "    </tr>\n",
              "  </thead>\n",
              "  <tbody>\n",
              "    <tr>\n",
              "      <th>0</th>\n",
              "      <td>07f01b6fcacc1b187a71e5074199db2d</td>\n",
              "      <td>agro_industria_e_comercio</td>\n",
              "      <td>39</td>\n",
              "      <td>430</td>\n",
              "      <td>1</td>\n",
              "      <td>16400.0</td>\n",
              "      <td>63.0</td>\n",
              "      <td>66.0</td>\n",
              "      <td>56.0</td>\n",
              "      <td>agro_industry_and_commerce</td>\n",
              "    </tr>\n",
              "    <tr>\n",
              "      <th>1</th>\n",
              "      <td>613d093272cb8f74f25a01e430155a6a</td>\n",
              "      <td>agro_industria_e_comercio</td>\n",
              "      <td>39</td>\n",
              "      <td>326</td>\n",
              "      <td>1</td>\n",
              "      <td>1050.0</td>\n",
              "      <td>38.0</td>\n",
              "      <td>41.0</td>\n",
              "      <td>39.0</td>\n",
              "      <td>agro_industry_and_commerce</td>\n",
              "    </tr>\n",
              "    <tr>\n",
              "      <th>2</th>\n",
              "      <td>44e8945e17aef03daaecbc4bbab7f730</td>\n",
              "      <td>agro_industria_e_comercio</td>\n",
              "      <td>48</td>\n",
              "      <td>771</td>\n",
              "      <td>2</td>\n",
              "      <td>200.0</td>\n",
              "      <td>16.0</td>\n",
              "      <td>2.0</td>\n",
              "      <td>11.0</td>\n",
              "      <td>agro_industry_and_commerce</td>\n",
              "    </tr>\n",
              "    <tr>\n",
              "      <th>3</th>\n",
              "      <td>980ecbcc15fe174ec1e5757c4d75b1bf</td>\n",
              "      <td>agro_industria_e_comercio</td>\n",
              "      <td>48</td>\n",
              "      <td>157</td>\n",
              "      <td>1</td>\n",
              "      <td>250.0</td>\n",
              "      <td>17.0</td>\n",
              "      <td>3.0</td>\n",
              "      <td>10.0</td>\n",
              "      <td>agro_industry_and_commerce</td>\n",
              "    </tr>\n",
              "    <tr>\n",
              "      <th>4</th>\n",
              "      <td>ba1d7e7ee1f055d252a2faa8ea3cea9b</td>\n",
              "      <td>agro_industria_e_comercio</td>\n",
              "      <td>59</td>\n",
              "      <td>693</td>\n",
              "      <td>6</td>\n",
              "      <td>1900.0</td>\n",
              "      <td>45.0</td>\n",
              "      <td>15.0</td>\n",
              "      <td>40.0</td>\n",
              "      <td>agro_industry_and_commerce</td>\n",
              "    </tr>\n",
              "  </tbody>\n",
              "</table>\n",
              "</div>"
            ],
            "text/plain": [
              "                         product_id      product_category_name  \\\n",
              "0  07f01b6fcacc1b187a71e5074199db2d  agro_industria_e_comercio   \n",
              "1  613d093272cb8f74f25a01e430155a6a  agro_industria_e_comercio   \n",
              "2  44e8945e17aef03daaecbc4bbab7f730  agro_industria_e_comercio   \n",
              "3  980ecbcc15fe174ec1e5757c4d75b1bf  agro_industria_e_comercio   \n",
              "4  ba1d7e7ee1f055d252a2faa8ea3cea9b  agro_industria_e_comercio   \n",
              "\n",
              "   product_name_length  product_description_length  product_photos_qty  \\\n",
              "0                   39                         430                   1   \n",
              "1                   39                         326                   1   \n",
              "2                   48                         771                   2   \n",
              "3                   48                         157                   1   \n",
              "4                   59                         693                   6   \n",
              "\n",
              "   product_weight_g  product_length_cm  product_height_cm  product_width_cm  \\\n",
              "0           16400.0               63.0               66.0              56.0   \n",
              "1            1050.0               38.0               41.0              39.0   \n",
              "2             200.0               16.0                2.0              11.0   \n",
              "3             250.0               17.0                3.0              10.0   \n",
              "4            1900.0               45.0               15.0              40.0   \n",
              "\n",
              "  product_category_name_english  \n",
              "0    agro_industry_and_commerce  \n",
              "1    agro_industry_and_commerce  \n",
              "2    agro_industry_and_commerce  \n",
              "3    agro_industry_and_commerce  \n",
              "4    agro_industry_and_commerce  "
            ]
          },
          "execution_count": 65,
          "metadata": {},
          "output_type": "execute_result"
        }
      ],
      "source": [
        "products_with_category_df = pd.merge(\n",
        "    left=products_df,\n",
        "    right=product_category_df,\n",
        "    how='outer',\n",
        "    left_on='product_category_name',\n",
        "    right_on='product_category_name'\n",
        ")\n",
        "products_with_category_df.head()"
      ]
    },
    {
      "cell_type": "code",
      "execution_count": 66,
      "id": "df25b2bf",
      "metadata": {},
      "outputs": [
        {
          "data": {
            "text/html": [
              "<div>\n",
              "<style scoped>\n",
              "    .dataframe tbody tr th:only-of-type {\n",
              "        vertical-align: middle;\n",
              "    }\n",
              "\n",
              "    .dataframe tbody tr th {\n",
              "        vertical-align: top;\n",
              "    }\n",
              "\n",
              "    .dataframe thead th {\n",
              "        text-align: right;\n",
              "    }\n",
              "</style>\n",
              "<table border=\"1\" class=\"dataframe\">\n",
              "  <thead>\n",
              "    <tr style=\"text-align: right;\">\n",
              "      <th></th>\n",
              "      <th>order_id</th>\n",
              "      <th>order_item_id</th>\n",
              "      <th>product_id</th>\n",
              "      <th>seller_id</th>\n",
              "      <th>shipping_limit_date</th>\n",
              "      <th>price</th>\n",
              "      <th>freight_value</th>\n",
              "      <th>product_category_name</th>\n",
              "      <th>product_name_length</th>\n",
              "      <th>product_description_length</th>\n",
              "      <th>product_photos_qty</th>\n",
              "      <th>product_weight_g</th>\n",
              "      <th>product_length_cm</th>\n",
              "      <th>product_height_cm</th>\n",
              "      <th>product_width_cm</th>\n",
              "      <th>product_category_name_english</th>\n",
              "    </tr>\n",
              "  </thead>\n",
              "  <tbody>\n",
              "    <tr>\n",
              "      <th>0</th>\n",
              "      <td>f30149f4a8882a08895b6a242aa0d612</td>\n",
              "      <td>1</td>\n",
              "      <td>00066f42aeeb9f3007548bb9d3f33c38</td>\n",
              "      <td>5670f4db5b62c43d542e1b2d56b0cf7c</td>\n",
              "      <td>2018-05-24 18:58:59</td>\n",
              "      <td>101.65</td>\n",
              "      <td>18.59</td>\n",
              "      <td>perfumaria</td>\n",
              "      <td>53</td>\n",
              "      <td>596</td>\n",
              "      <td>6</td>\n",
              "      <td>300.0</td>\n",
              "      <td>20.0</td>\n",
              "      <td>16.0</td>\n",
              "      <td>16.0</td>\n",
              "      <td>perfumery</td>\n",
              "    </tr>\n",
              "    <tr>\n",
              "      <th>1</th>\n",
              "      <td>f5eda0ded77c1293b04c953138c8331d</td>\n",
              "      <td>1</td>\n",
              "      <td>00088930e925c41fd95ebfe695fd2655</td>\n",
              "      <td>7142540dd4c91e2237acb7e911c4eba2</td>\n",
              "      <td>2017-12-18 19:32:19</td>\n",
              "      <td>129.90</td>\n",
              "      <td>13.93</td>\n",
              "      <td>automotivo</td>\n",
              "      <td>56</td>\n",
              "      <td>752</td>\n",
              "      <td>4</td>\n",
              "      <td>1225.0</td>\n",
              "      <td>55.0</td>\n",
              "      <td>10.0</td>\n",
              "      <td>26.0</td>\n",
              "      <td>auto</td>\n",
              "    </tr>\n",
              "    <tr>\n",
              "      <th>2</th>\n",
              "      <td>0bf736fd0fd5169d60de3699fcbcf986</td>\n",
              "      <td>1</td>\n",
              "      <td>0009406fd7479715e4bef61dd91f2462</td>\n",
              "      <td>4a3ca9315b744ce9f8e9374361493884</td>\n",
              "      <td>2017-12-29 16:12:36</td>\n",
              "      <td>229.00</td>\n",
              "      <td>13.10</td>\n",
              "      <td>cama_mesa_banho</td>\n",
              "      <td>50</td>\n",
              "      <td>266</td>\n",
              "      <td>2</td>\n",
              "      <td>300.0</td>\n",
              "      <td>45.0</td>\n",
              "      <td>15.0</td>\n",
              "      <td>35.0</td>\n",
              "      <td>bed_bath_table</td>\n",
              "    </tr>\n",
              "    <tr>\n",
              "      <th>3</th>\n",
              "      <td>3aba44d8e554ab4bb8c09f6f78032ca8</td>\n",
              "      <td>1</td>\n",
              "      <td>000b8f95fcb9e0096488278317764d19</td>\n",
              "      <td>40ec8ab6cdafbcc4f544da38c67da39a</td>\n",
              "      <td>2018-08-16 13:35:21</td>\n",
              "      <td>58.90</td>\n",
              "      <td>19.60</td>\n",
              "      <td>utilidades_domesticas</td>\n",
              "      <td>25</td>\n",
              "      <td>364</td>\n",
              "      <td>3</td>\n",
              "      <td>550.0</td>\n",
              "      <td>19.0</td>\n",
              "      <td>24.0</td>\n",
              "      <td>12.0</td>\n",
              "      <td>housewares</td>\n",
              "    </tr>\n",
              "    <tr>\n",
              "      <th>4</th>\n",
              "      <td>6f0dfb5b5398b271cc6bbd9ee263530e</td>\n",
              "      <td>1</td>\n",
              "      <td>000b8f95fcb9e0096488278317764d19</td>\n",
              "      <td>40ec8ab6cdafbcc4f544da38c67da39a</td>\n",
              "      <td>2018-08-07 22:15:19</td>\n",
              "      <td>58.90</td>\n",
              "      <td>19.60</td>\n",
              "      <td>utilidades_domesticas</td>\n",
              "      <td>25</td>\n",
              "      <td>364</td>\n",
              "      <td>3</td>\n",
              "      <td>550.0</td>\n",
              "      <td>19.0</td>\n",
              "      <td>24.0</td>\n",
              "      <td>12.0</td>\n",
              "      <td>housewares</td>\n",
              "    </tr>\n",
              "  </tbody>\n",
              "</table>\n",
              "</div>"
            ],
            "text/plain": [
              "                           order_id  order_item_id  \\\n",
              "0  f30149f4a8882a08895b6a242aa0d612              1   \n",
              "1  f5eda0ded77c1293b04c953138c8331d              1   \n",
              "2  0bf736fd0fd5169d60de3699fcbcf986              1   \n",
              "3  3aba44d8e554ab4bb8c09f6f78032ca8              1   \n",
              "4  6f0dfb5b5398b271cc6bbd9ee263530e              1   \n",
              "\n",
              "                         product_id                         seller_id  \\\n",
              "0  00066f42aeeb9f3007548bb9d3f33c38  5670f4db5b62c43d542e1b2d56b0cf7c   \n",
              "1  00088930e925c41fd95ebfe695fd2655  7142540dd4c91e2237acb7e911c4eba2   \n",
              "2  0009406fd7479715e4bef61dd91f2462  4a3ca9315b744ce9f8e9374361493884   \n",
              "3  000b8f95fcb9e0096488278317764d19  40ec8ab6cdafbcc4f544da38c67da39a   \n",
              "4  000b8f95fcb9e0096488278317764d19  40ec8ab6cdafbcc4f544da38c67da39a   \n",
              "\n",
              "   shipping_limit_date   price  freight_value  product_category_name  \\\n",
              "0  2018-05-24 18:58:59  101.65          18.59             perfumaria   \n",
              "1  2017-12-18 19:32:19  129.90          13.93             automotivo   \n",
              "2  2017-12-29 16:12:36  229.00          13.10        cama_mesa_banho   \n",
              "3  2018-08-16 13:35:21   58.90          19.60  utilidades_domesticas   \n",
              "4  2018-08-07 22:15:19   58.90          19.60  utilidades_domesticas   \n",
              "\n",
              "   product_name_length  product_description_length  product_photos_qty  \\\n",
              "0                   53                         596                   6   \n",
              "1                   56                         752                   4   \n",
              "2                   50                         266                   2   \n",
              "3                   25                         364                   3   \n",
              "4                   25                         364                   3   \n",
              "\n",
              "   product_weight_g  product_length_cm  product_height_cm  product_width_cm  \\\n",
              "0             300.0               20.0               16.0              16.0   \n",
              "1            1225.0               55.0               10.0              26.0   \n",
              "2             300.0               45.0               15.0              35.0   \n",
              "3             550.0               19.0               24.0              12.0   \n",
              "4             550.0               19.0               24.0              12.0   \n",
              "\n",
              "  product_category_name_english  \n",
              "0                     perfumery  \n",
              "1                          auto  \n",
              "2                bed_bath_table  \n",
              "3                    housewares  \n",
              "4                    housewares  "
            ]
          },
          "execution_count": 66,
          "metadata": {},
          "output_type": "execute_result"
        }
      ],
      "source": [
        "# Merge data order_items_df dengan products_with_category_df\n",
        "order_items_with_category_df = pd.merge(\n",
        "    left=order_items_df,\n",
        "    right=products_with_category_df,\n",
        "    how='outer',\n",
        "    left_on='product_id',\n",
        "    right_on='product_id'\n",
        ")\n",
        "order_items_with_category_df.head()"
      ]
    },
    {
      "cell_type": "code",
      "execution_count": 67,
      "id": "51a63176",
      "metadata": {},
      "outputs": [
        {
          "data": {
            "text/html": [
              "<div>\n",
              "<style scoped>\n",
              "    .dataframe tbody tr th:only-of-type {\n",
              "        vertical-align: middle;\n",
              "    }\n",
              "\n",
              "    .dataframe tbody tr th {\n",
              "        vertical-align: top;\n",
              "    }\n",
              "\n",
              "    .dataframe thead th {\n",
              "        text-align: right;\n",
              "    }\n",
              "</style>\n",
              "<table border=\"1\" class=\"dataframe\">\n",
              "  <thead>\n",
              "    <tr style=\"text-align: right;\">\n",
              "      <th></th>\n",
              "      <th>order_id</th>\n",
              "      <th>customer_id</th>\n",
              "      <th>order_status</th>\n",
              "      <th>order_purchase_timestamp</th>\n",
              "      <th>order_approved_at</th>\n",
              "      <th>order_delivered_carrier_date</th>\n",
              "      <th>order_delivered_customer_date</th>\n",
              "      <th>order_estimated_delivery_date</th>\n",
              "      <th>customer_unique_id</th>\n",
              "      <th>customer_zip_code_prefix</th>\n",
              "      <th>customer_city</th>\n",
              "      <th>customer_state</th>\n",
              "      <th>geolocation_zip_code_prefix</th>\n",
              "      <th>geolocation_city</th>\n",
              "      <th>geolocation_state</th>\n",
              "      <th>geolocation_lat</th>\n",
              "      <th>geolocation_lng</th>\n",
              "    </tr>\n",
              "  </thead>\n",
              "  <tbody>\n",
              "    <tr>\n",
              "      <th>0</th>\n",
              "      <td>5f79b5b0931d63f1a42989eb65b9da6e</td>\n",
              "      <td>00012a2ce6f8dcda20d059ce98491703</td>\n",
              "      <td>delivered</td>\n",
              "      <td>2017-11-14 16:08:26</td>\n",
              "      <td>2017-11-14 16:35:32</td>\n",
              "      <td>2017-11-17 15:32:08</td>\n",
              "      <td>2017-11-28 15:41:30</td>\n",
              "      <td>2017-12-04</td>\n",
              "      <td>248ffe10d632bebe4f7267f1f44844c9</td>\n",
              "      <td>6273.0</td>\n",
              "      <td>osasco</td>\n",
              "      <td>SP</td>\n",
              "      <td>6273.0</td>\n",
              "      <td>osasco</td>\n",
              "      <td>SP</td>\n",
              "      <td>-23.499314</td>\n",
              "      <td>-46.767550</td>\n",
              "    </tr>\n",
              "    <tr>\n",
              "      <th>1</th>\n",
              "      <td>a44895d095d7e0702b6a162fa2dbeced</td>\n",
              "      <td>000161a058600d5901f007fab4c27140</td>\n",
              "      <td>delivered</td>\n",
              "      <td>2017-07-16 09:40:32</td>\n",
              "      <td>2017-07-16 09:55:12</td>\n",
              "      <td>2017-07-19 19:09:37</td>\n",
              "      <td>2017-07-25 18:57:33</td>\n",
              "      <td>2017-08-04</td>\n",
              "      <td>b0015e09bb4b6e47c52844fab5fb6638</td>\n",
              "      <td>35550.0</td>\n",
              "      <td>itapecerica</td>\n",
              "      <td>MG</td>\n",
              "      <td>35550.0</td>\n",
              "      <td>itapecerica</td>\n",
              "      <td>MG</td>\n",
              "      <td>-20.471945</td>\n",
              "      <td>-45.123145</td>\n",
              "    </tr>\n",
              "    <tr>\n",
              "      <th>2</th>\n",
              "      <td>316a104623542e4d75189bb372bc5f8d</td>\n",
              "      <td>0001fd6190edaaf884bcaf3d49edf079</td>\n",
              "      <td>delivered</td>\n",
              "      <td>2017-02-28 11:06:43</td>\n",
              "      <td>2017-02-28 11:15:20</td>\n",
              "      <td>2017-03-01 15:24:20</td>\n",
              "      <td>2017-03-06 08:57:49</td>\n",
              "      <td>2017-03-22</td>\n",
              "      <td>94b11d37cd61cb2994a194d11f89682b</td>\n",
              "      <td>29830.0</td>\n",
              "      <td>nova venecia</td>\n",
              "      <td>ES</td>\n",
              "      <td>29830.0</td>\n",
              "      <td>nova venecia</td>\n",
              "      <td>ES</td>\n",
              "      <td>-18.707824</td>\n",
              "      <td>-40.398960</td>\n",
              "    </tr>\n",
              "    <tr>\n",
              "      <th>3</th>\n",
              "      <td>5825ce2e88d5346438686b0bba99e5ee</td>\n",
              "      <td>0002414f95344307404f0ace7a26f1d5</td>\n",
              "      <td>delivered</td>\n",
              "      <td>2017-08-16 13:09:20</td>\n",
              "      <td>2017-08-17 03:10:27</td>\n",
              "      <td>2017-08-19 11:34:29</td>\n",
              "      <td>2017-09-13 20:06:02</td>\n",
              "      <td>2017-09-14</td>\n",
              "      <td>4893ad4ea28b2c5b3ddf4e82e79db9e6</td>\n",
              "      <td>39664.0</td>\n",
              "      <td>mendonca</td>\n",
              "      <td>MG</td>\n",
              "      <td>39664.0</td>\n",
              "      <td>mendonca</td>\n",
              "      <td>MG</td>\n",
              "      <td>-21.770599</td>\n",
              "      <td>-43.355230</td>\n",
              "    </tr>\n",
              "    <tr>\n",
              "      <th>4</th>\n",
              "      <td>0ab7fb08086d4af9141453c91878ed7a</td>\n",
              "      <td>000379cdec625522490c315e70c7a9fb</td>\n",
              "      <td>delivered</td>\n",
              "      <td>2018-04-02 13:42:17</td>\n",
              "      <td>2018-04-04 03:10:19</td>\n",
              "      <td>2018-04-04 18:11:09</td>\n",
              "      <td>2018-04-13 20:21:08</td>\n",
              "      <td>2018-04-18</td>\n",
              "      <td>0b83f73b19c2019e182fd552c048a22c</td>\n",
              "      <td>4841.0</td>\n",
              "      <td>sao paulo</td>\n",
              "      <td>SP</td>\n",
              "      <td>4841.0</td>\n",
              "      <td>sao paulo</td>\n",
              "      <td>SP</td>\n",
              "      <td>-23.738482</td>\n",
              "      <td>-46.689273</td>\n",
              "    </tr>\n",
              "  </tbody>\n",
              "</table>\n",
              "</div>"
            ],
            "text/plain": [
              "                           order_id                       customer_id  \\\n",
              "0  5f79b5b0931d63f1a42989eb65b9da6e  00012a2ce6f8dcda20d059ce98491703   \n",
              "1  a44895d095d7e0702b6a162fa2dbeced  000161a058600d5901f007fab4c27140   \n",
              "2  316a104623542e4d75189bb372bc5f8d  0001fd6190edaaf884bcaf3d49edf079   \n",
              "3  5825ce2e88d5346438686b0bba99e5ee  0002414f95344307404f0ace7a26f1d5   \n",
              "4  0ab7fb08086d4af9141453c91878ed7a  000379cdec625522490c315e70c7a9fb   \n",
              "\n",
              "  order_status order_purchase_timestamp   order_approved_at  \\\n",
              "0    delivered      2017-11-14 16:08:26 2017-11-14 16:35:32   \n",
              "1    delivered      2017-07-16 09:40:32 2017-07-16 09:55:12   \n",
              "2    delivered      2017-02-28 11:06:43 2017-02-28 11:15:20   \n",
              "3    delivered      2017-08-16 13:09:20 2017-08-17 03:10:27   \n",
              "4    delivered      2018-04-02 13:42:17 2018-04-04 03:10:19   \n",
              "\n",
              "  order_delivered_carrier_date order_delivered_customer_date  \\\n",
              "0          2017-11-17 15:32:08           2017-11-28 15:41:30   \n",
              "1          2017-07-19 19:09:37           2017-07-25 18:57:33   \n",
              "2          2017-03-01 15:24:20           2017-03-06 08:57:49   \n",
              "3          2017-08-19 11:34:29           2017-09-13 20:06:02   \n",
              "4          2018-04-04 18:11:09           2018-04-13 20:21:08   \n",
              "\n",
              "  order_estimated_delivery_date                customer_unique_id  \\\n",
              "0                    2017-12-04  248ffe10d632bebe4f7267f1f44844c9   \n",
              "1                    2017-08-04  b0015e09bb4b6e47c52844fab5fb6638   \n",
              "2                    2017-03-22  94b11d37cd61cb2994a194d11f89682b   \n",
              "3                    2017-09-14  4893ad4ea28b2c5b3ddf4e82e79db9e6   \n",
              "4                    2018-04-18  0b83f73b19c2019e182fd552c048a22c   \n",
              "\n",
              "   customer_zip_code_prefix customer_city customer_state  \\\n",
              "0                    6273.0        osasco             SP   \n",
              "1                   35550.0   itapecerica             MG   \n",
              "2                   29830.0  nova venecia             ES   \n",
              "3                   39664.0      mendonca             MG   \n",
              "4                    4841.0     sao paulo             SP   \n",
              "\n",
              "   geolocation_zip_code_prefix geolocation_city geolocation_state  \\\n",
              "0                       6273.0           osasco                SP   \n",
              "1                      35550.0      itapecerica                MG   \n",
              "2                      29830.0     nova venecia                ES   \n",
              "3                      39664.0         mendonca                MG   \n",
              "4                       4841.0        sao paulo                SP   \n",
              "\n",
              "   geolocation_lat  geolocation_lng  \n",
              "0       -23.499314       -46.767550  \n",
              "1       -20.471945       -45.123145  \n",
              "2       -18.707824       -40.398960  \n",
              "3       -21.770599       -43.355230  \n",
              "4       -23.738482       -46.689273  "
            ]
          },
          "execution_count": 67,
          "metadata": {},
          "output_type": "execute_result"
        }
      ],
      "source": [
        "# Merge Orders dengan Customers\n",
        "orders_customers_df = pd.merge(\n",
        "    left=orders_df,\n",
        "    right=customers_geolocation,\n",
        "    how='outer',\n",
        "    left_on='customer_id',\n",
        "    right_on='customer_id'\n",
        ")\n",
        "orders_customers_df.head()"
      ]
    },
    {
      "cell_type": "markdown",
      "id": "3274bc2b",
      "metadata": {},
      "source": [
        "Merge All Data"
      ]
    },
    {
      "cell_type": "code",
      "execution_count": 68,
      "id": "a65b0e54",
      "metadata": {},
      "outputs": [
        {
          "data": {
            "text/html": [
              "<div>\n",
              "<style scoped>\n",
              "    .dataframe tbody tr th:only-of-type {\n",
              "        vertical-align: middle;\n",
              "    }\n",
              "\n",
              "    .dataframe tbody tr th {\n",
              "        vertical-align: top;\n",
              "    }\n",
              "\n",
              "    .dataframe thead th {\n",
              "        text-align: right;\n",
              "    }\n",
              "</style>\n",
              "<table border=\"1\" class=\"dataframe\">\n",
              "  <thead>\n",
              "    <tr style=\"text-align: right;\">\n",
              "      <th></th>\n",
              "      <th>order_id</th>\n",
              "      <th>order_item_id</th>\n",
              "      <th>product_id</th>\n",
              "      <th>seller_id</th>\n",
              "      <th>shipping_limit_date</th>\n",
              "      <th>price</th>\n",
              "      <th>freight_value</th>\n",
              "      <th>product_category_name</th>\n",
              "      <th>product_name_length</th>\n",
              "      <th>product_description_length</th>\n",
              "      <th>...</th>\n",
              "      <th>order_estimated_delivery_date</th>\n",
              "      <th>customer_unique_id</th>\n",
              "      <th>customer_zip_code_prefix</th>\n",
              "      <th>customer_city</th>\n",
              "      <th>customer_state</th>\n",
              "      <th>geolocation_zip_code_prefix</th>\n",
              "      <th>geolocation_city</th>\n",
              "      <th>geolocation_state</th>\n",
              "      <th>geolocation_lat</th>\n",
              "      <th>geolocation_lng</th>\n",
              "    </tr>\n",
              "  </thead>\n",
              "  <tbody>\n",
              "    <tr>\n",
              "      <th>0</th>\n",
              "      <td>00010242fe8c5a6d1ba2dd792cb16214</td>\n",
              "      <td>1.0</td>\n",
              "      <td>4244733e06e7ecb4970a6e2683c13e61</td>\n",
              "      <td>48436dade18ac8b2bce089ec2a041202</td>\n",
              "      <td>2017-09-19 09:45:35</td>\n",
              "      <td>58.90</td>\n",
              "      <td>13.29</td>\n",
              "      <td>cool_stuff</td>\n",
              "      <td>58.0</td>\n",
              "      <td>598.0</td>\n",
              "      <td>...</td>\n",
              "      <td>2017-09-29</td>\n",
              "      <td>871766c5855e863f6eccc05f988b23cb</td>\n",
              "      <td>28013.0</td>\n",
              "      <td>campos dos goytacazes</td>\n",
              "      <td>RJ</td>\n",
              "      <td>28013.0</td>\n",
              "      <td>campos dos goytacazes</td>\n",
              "      <td>RJ</td>\n",
              "      <td>-21.762829</td>\n",
              "      <td>-41.310605</td>\n",
              "    </tr>\n",
              "    <tr>\n",
              "      <th>1</th>\n",
              "      <td>00018f77f2f0320c557190d7a144bdd3</td>\n",
              "      <td>1.0</td>\n",
              "      <td>e5f2d52b802189ee658865ca93d83a8f</td>\n",
              "      <td>dd7ddc04e1b6c2c614352b383efe2d36</td>\n",
              "      <td>2017-05-03 11:05:13</td>\n",
              "      <td>239.90</td>\n",
              "      <td>19.93</td>\n",
              "      <td>pet_shop</td>\n",
              "      <td>56.0</td>\n",
              "      <td>239.0</td>\n",
              "      <td>...</td>\n",
              "      <td>2017-05-15</td>\n",
              "      <td>eb28e67c4c0b83846050ddfb8a35d051</td>\n",
              "      <td>15775.0</td>\n",
              "      <td>santa fe do sul</td>\n",
              "      <td>SP</td>\n",
              "      <td>15775.0</td>\n",
              "      <td>santa fe do sul</td>\n",
              "      <td>SP</td>\n",
              "      <td>-20.205737</td>\n",
              "      <td>-50.926924</td>\n",
              "    </tr>\n",
              "    <tr>\n",
              "      <th>2</th>\n",
              "      <td>000229ec398224ef6ca0657da4fc703e</td>\n",
              "      <td>1.0</td>\n",
              "      <td>c777355d18b72b67abbeef9df44fd0fd</td>\n",
              "      <td>5b51032eddd242adc84c38acab88f23d</td>\n",
              "      <td>2018-01-18 14:48:30</td>\n",
              "      <td>199.00</td>\n",
              "      <td>17.87</td>\n",
              "      <td>moveis_decoracao</td>\n",
              "      <td>59.0</td>\n",
              "      <td>695.0</td>\n",
              "      <td>...</td>\n",
              "      <td>2018-02-05</td>\n",
              "      <td>3818d81c6709e39d06b2738a8d3a2474</td>\n",
              "      <td>35661.0</td>\n",
              "      <td>para de minas</td>\n",
              "      <td>MG</td>\n",
              "      <td>35661.0</td>\n",
              "      <td>para de minas</td>\n",
              "      <td>MG</td>\n",
              "      <td>-19.870383</td>\n",
              "      <td>-44.594355</td>\n",
              "    </tr>\n",
              "    <tr>\n",
              "      <th>3</th>\n",
              "      <td>00024acbcdf0a6daa1e931b038114c75</td>\n",
              "      <td>1.0</td>\n",
              "      <td>7634da152a4610f1595efa32f14722fc</td>\n",
              "      <td>9d7a1d34a5052409006425275ba1c2b4</td>\n",
              "      <td>2018-08-15 10:10:18</td>\n",
              "      <td>12.99</td>\n",
              "      <td>12.79</td>\n",
              "      <td>perfumaria</td>\n",
              "      <td>42.0</td>\n",
              "      <td>480.0</td>\n",
              "      <td>...</td>\n",
              "      <td>2018-08-20</td>\n",
              "      <td>af861d436cfc08b2c2ddefd0ba074622</td>\n",
              "      <td>12952.0</td>\n",
              "      <td>atibaia</td>\n",
              "      <td>SP</td>\n",
              "      <td>12952.0</td>\n",
              "      <td>atibaia</td>\n",
              "      <td>SP</td>\n",
              "      <td>-23.104346</td>\n",
              "      <td>-46.595589</td>\n",
              "    </tr>\n",
              "    <tr>\n",
              "      <th>4</th>\n",
              "      <td>00042b26cf59d7ce69dfabb4e55b4fd9</td>\n",
              "      <td>1.0</td>\n",
              "      <td>ac6c3623068f30de03045865e4e10089</td>\n",
              "      <td>df560393f3a51e74553ab94004ba5c87</td>\n",
              "      <td>2017-02-13 13:57:51</td>\n",
              "      <td>199.90</td>\n",
              "      <td>18.14</td>\n",
              "      <td>ferramentas_jardim</td>\n",
              "      <td>59.0</td>\n",
              "      <td>409.0</td>\n",
              "      <td>...</td>\n",
              "      <td>2017-03-17</td>\n",
              "      <td>64b576fb70d441e8f1b2d7d446e483c5</td>\n",
              "      <td>13226.0</td>\n",
              "      <td>varzea paulista</td>\n",
              "      <td>SP</td>\n",
              "      <td>13226.0</td>\n",
              "      <td>varzea paulista</td>\n",
              "      <td>SP</td>\n",
              "      <td>-23.245512</td>\n",
              "      <td>-46.825182</td>\n",
              "    </tr>\n",
              "  </tbody>\n",
              "</table>\n",
              "<p>5 rows × 32 columns</p>\n",
              "</div>"
            ],
            "text/plain": [
              "                           order_id  order_item_id  \\\n",
              "0  00010242fe8c5a6d1ba2dd792cb16214            1.0   \n",
              "1  00018f77f2f0320c557190d7a144bdd3            1.0   \n",
              "2  000229ec398224ef6ca0657da4fc703e            1.0   \n",
              "3  00024acbcdf0a6daa1e931b038114c75            1.0   \n",
              "4  00042b26cf59d7ce69dfabb4e55b4fd9            1.0   \n",
              "\n",
              "                         product_id                         seller_id  \\\n",
              "0  4244733e06e7ecb4970a6e2683c13e61  48436dade18ac8b2bce089ec2a041202   \n",
              "1  e5f2d52b802189ee658865ca93d83a8f  dd7ddc04e1b6c2c614352b383efe2d36   \n",
              "2  c777355d18b72b67abbeef9df44fd0fd  5b51032eddd242adc84c38acab88f23d   \n",
              "3  7634da152a4610f1595efa32f14722fc  9d7a1d34a5052409006425275ba1c2b4   \n",
              "4  ac6c3623068f30de03045865e4e10089  df560393f3a51e74553ab94004ba5c87   \n",
              "\n",
              "   shipping_limit_date   price  freight_value product_category_name  \\\n",
              "0  2017-09-19 09:45:35   58.90          13.29            cool_stuff   \n",
              "1  2017-05-03 11:05:13  239.90          19.93              pet_shop   \n",
              "2  2018-01-18 14:48:30  199.00          17.87      moveis_decoracao   \n",
              "3  2018-08-15 10:10:18   12.99          12.79            perfumaria   \n",
              "4  2017-02-13 13:57:51  199.90          18.14    ferramentas_jardim   \n",
              "\n",
              "   product_name_length  product_description_length  ...  \\\n",
              "0                 58.0                       598.0  ...   \n",
              "1                 56.0                       239.0  ...   \n",
              "2                 59.0                       695.0  ...   \n",
              "3                 42.0                       480.0  ...   \n",
              "4                 59.0                       409.0  ...   \n",
              "\n",
              "   order_estimated_delivery_date                customer_unique_id  \\\n",
              "0                     2017-09-29  871766c5855e863f6eccc05f988b23cb   \n",
              "1                     2017-05-15  eb28e67c4c0b83846050ddfb8a35d051   \n",
              "2                     2018-02-05  3818d81c6709e39d06b2738a8d3a2474   \n",
              "3                     2018-08-20  af861d436cfc08b2c2ddefd0ba074622   \n",
              "4                     2017-03-17  64b576fb70d441e8f1b2d7d446e483c5   \n",
              "\n",
              "   customer_zip_code_prefix          customer_city  customer_state  \\\n",
              "0                   28013.0  campos dos goytacazes              RJ   \n",
              "1                   15775.0        santa fe do sul              SP   \n",
              "2                   35661.0          para de minas              MG   \n",
              "3                   12952.0                atibaia              SP   \n",
              "4                   13226.0        varzea paulista              SP   \n",
              "\n",
              "  geolocation_zip_code_prefix       geolocation_city geolocation_state  \\\n",
              "0                     28013.0  campos dos goytacazes                RJ   \n",
              "1                     15775.0        santa fe do sul                SP   \n",
              "2                     35661.0          para de minas                MG   \n",
              "3                     12952.0                atibaia                SP   \n",
              "4                     13226.0        varzea paulista                SP   \n",
              "\n",
              "  geolocation_lat geolocation_lng  \n",
              "0      -21.762829      -41.310605  \n",
              "1      -20.205737      -50.926924  \n",
              "2      -19.870383      -44.594355  \n",
              "3      -23.104346      -46.595589  \n",
              "4      -23.245512      -46.825182  \n",
              "\n",
              "[5 rows x 32 columns]"
            ]
          },
          "execution_count": 68,
          "metadata": {},
          "output_type": "execute_result"
        }
      ],
      "source": [
        "all_data = pd.merge(\n",
        "    left=order_items_with_category_df,\n",
        "    right=orders_customers_df,\n",
        "    how='outer',\n",
        "    left_on='order_id',\n",
        "    right_on='order_id'\n",
        ")\n",
        "all_data.head()"
      ]
    },
    {
      "cell_type": "markdown",
      "id": "5ba78a8d",
      "metadata": {},
      "source": [
        "**Insight:**\n",
        "- Proses pembersihan dari Missing Values, Duplicated Data, dan Inaccurate Value telah dilakukan sehingga siap untuk eksplorasi dan visualisasi  \n",
        "- Penggabungan semua data menjadi satu telah dilakukan berdasarkan foreign_key tertentu"
      ]
    },
    {
      "cell_type": "markdown",
      "id": "f710948f",
      "metadata": {},
      "source": [
        "## Exploratory Data Analysis (EDA)"
      ]
    },
    {
      "cell_type": "markdown",
      "id": "a327cfab",
      "metadata": {},
      "source": [
        "### Explore All Data"
      ]
    },
    {
      "cell_type": "code",
      "execution_count": 69,
      "id": "0bdffb07",
      "metadata": {},
      "outputs": [
        {
          "name": "stdout",
          "output_type": "stream",
          "text": [
            "<class 'pandas.core.frame.DataFrame'>\n",
            "RangeIndex: 117568 entries, 0 to 117567\n",
            "Data columns (total 32 columns):\n",
            " #   Column                         Non-Null Count   Dtype         \n",
            "---  ------                         --------------   -----         \n",
            " 0   order_id                       117568 non-null  object        \n",
            " 1   order_item_id                  116773 non-null  float64       \n",
            " 2   product_id                     116773 non-null  object        \n",
            " 3   seller_id                      116773 non-null  object        \n",
            " 4   shipping_limit_date            116773 non-null  object        \n",
            " 5   price                          116773 non-null  float64       \n",
            " 6   freight_value                  116773 non-null  float64       \n",
            " 7   product_category_name          116773 non-null  object        \n",
            " 8   product_name_length            116773 non-null  float64       \n",
            " 9   product_description_length     116773 non-null  float64       \n",
            " 10  product_photos_qty             116773 non-null  float64       \n",
            " 11  product_weight_g               116773 non-null  float64       \n",
            " 12  product_length_cm              116773 non-null  float64       \n",
            " 13  product_height_cm              116773 non-null  float64       \n",
            " 14  product_width_cm               116773 non-null  float64       \n",
            " 15  product_category_name_english  116748 non-null  object        \n",
            " 16  customer_id                    117568 non-null  object        \n",
            " 17  order_status                   117568 non-null  object        \n",
            " 18  order_purchase_timestamp       117568 non-null  datetime64[ns]\n",
            " 19  order_approved_at              117403 non-null  datetime64[ns]\n",
            " 20  order_delivered_carrier_date   115547 non-null  datetime64[ns]\n",
            " 21  order_delivered_customer_date  114240 non-null  datetime64[ns]\n",
            " 22  order_estimated_delivery_date  117568 non-null  datetime64[ns]\n",
            " 23  customer_unique_id             117262 non-null  object        \n",
            " 24  customer_zip_code_prefix       117262 non-null  float64       \n",
            " 25  customer_city                  117262 non-null  object        \n",
            " 26  customer_state                 117262 non-null  object        \n",
            " 27  geolocation_zip_code_prefix    117262 non-null  float64       \n",
            " 28  geolocation_city               117262 non-null  object        \n",
            " 29  geolocation_state              117262 non-null  object        \n",
            " 30  geolocation_lat                117262 non-null  float64       \n",
            " 31  geolocation_lng                117262 non-null  float64       \n",
            "dtypes: datetime64[ns](5), float64(14), object(13)\n",
            "memory usage: 28.7+ MB\n"
          ]
        }
      ],
      "source": [
        "all_data.info()"
      ]
    },
    {
      "cell_type": "code",
      "execution_count": 70,
      "id": "0beb0566",
      "metadata": {},
      "outputs": [
        {
          "data": {
            "text/html": [
              "<div>\n",
              "<style scoped>\n",
              "    .dataframe tbody tr th:only-of-type {\n",
              "        vertical-align: middle;\n",
              "    }\n",
              "\n",
              "    .dataframe tbody tr th {\n",
              "        vertical-align: top;\n",
              "    }\n",
              "\n",
              "    .dataframe thead th {\n",
              "        text-align: right;\n",
              "    }\n",
              "</style>\n",
              "<table border=\"1\" class=\"dataframe\">\n",
              "  <thead>\n",
              "    <tr style=\"text-align: right;\">\n",
              "      <th></th>\n",
              "      <th>order_item_id</th>\n",
              "      <th>price</th>\n",
              "      <th>freight_value</th>\n",
              "      <th>product_name_length</th>\n",
              "      <th>product_description_length</th>\n",
              "      <th>product_photos_qty</th>\n",
              "      <th>product_weight_g</th>\n",
              "      <th>product_length_cm</th>\n",
              "      <th>product_height_cm</th>\n",
              "      <th>product_width_cm</th>\n",
              "      <th>order_purchase_timestamp</th>\n",
              "      <th>order_approved_at</th>\n",
              "      <th>order_delivered_carrier_date</th>\n",
              "      <th>order_delivered_customer_date</th>\n",
              "      <th>order_estimated_delivery_date</th>\n",
              "      <th>customer_zip_code_prefix</th>\n",
              "      <th>geolocation_zip_code_prefix</th>\n",
              "      <th>geolocation_lat</th>\n",
              "      <th>geolocation_lng</th>\n",
              "    </tr>\n",
              "  </thead>\n",
              "  <tbody>\n",
              "    <tr>\n",
              "      <th>count</th>\n",
              "      <td>116773.000000</td>\n",
              "      <td>116773.000000</td>\n",
              "      <td>116773.000000</td>\n",
              "      <td>116773.000000</td>\n",
              "      <td>116773.000000</td>\n",
              "      <td>116773.000000</td>\n",
              "      <td>116773.000000</td>\n",
              "      <td>116773.000000</td>\n",
              "      <td>116773.000000</td>\n",
              "      <td>116773.000000</td>\n",
              "      <td>117568</td>\n",
              "      <td>117403</td>\n",
              "      <td>115547</td>\n",
              "      <td>114240</td>\n",
              "      <td>117568</td>\n",
              "      <td>117262.000000</td>\n",
              "      <td>117262.000000</td>\n",
              "      <td>117262.000000</td>\n",
              "      <td>117262.000000</td>\n",
              "    </tr>\n",
              "    <tr>\n",
              "      <th>mean</th>\n",
              "      <td>1.198342</td>\n",
              "      <td>120.804169</td>\n",
              "      <td>20.005671</td>\n",
              "      <td>48.767609</td>\n",
              "      <td>788.547258</td>\n",
              "      <td>2.206743</td>\n",
              "      <td>2098.879090</td>\n",
              "      <td>30.175010</td>\n",
              "      <td>16.591308</td>\n",
              "      <td>23.014856</td>\n",
              "      <td>2017-12-31 13:40:14.162161920</td>\n",
              "      <td>2017-12-31 23:52:37.391165184</td>\n",
              "      <td>2018-01-05 03:40:58.584783360</td>\n",
              "      <td>2018-01-14 14:56:10.651540992</td>\n",
              "      <td>2018-01-24 09:58:57.778987264</td>\n",
              "      <td>35294.677909</td>\n",
              "      <td>35294.677909</td>\n",
              "      <td>-21.193908</td>\n",
              "      <td>-46.215771</td>\n",
              "    </tr>\n",
              "    <tr>\n",
              "      <th>min</th>\n",
              "      <td>1.000000</td>\n",
              "      <td>0.850000</td>\n",
              "      <td>0.000000</td>\n",
              "      <td>5.000000</td>\n",
              "      <td>4.000000</td>\n",
              "      <td>1.000000</td>\n",
              "      <td>0.000000</td>\n",
              "      <td>7.000000</td>\n",
              "      <td>2.000000</td>\n",
              "      <td>6.000000</td>\n",
              "      <td>2016-09-04 21:15:19</td>\n",
              "      <td>2016-09-15 12:16:38</td>\n",
              "      <td>2016-10-08 10:34:01</td>\n",
              "      <td>2016-10-11 13:46:32</td>\n",
              "      <td>2016-09-30 00:00:00</td>\n",
              "      <td>1003.000000</td>\n",
              "      <td>1003.000000</td>\n",
              "      <td>-33.690972</td>\n",
              "      <td>-72.670987</td>\n",
              "    </tr>\n",
              "    <tr>\n",
              "      <th>25%</th>\n",
              "      <td>1.000000</td>\n",
              "      <td>39.900000</td>\n",
              "      <td>13.080000</td>\n",
              "      <td>43.000000</td>\n",
              "      <td>348.000000</td>\n",
              "      <td>1.000000</td>\n",
              "      <td>300.000000</td>\n",
              "      <td>18.000000</td>\n",
              "      <td>8.000000</td>\n",
              "      <td>15.000000</td>\n",
              "      <td>2017-09-13 14:55:13</td>\n",
              "      <td>2017-09-13 22:47:10.500000</td>\n",
              "      <td>2017-09-18 21:40:37</td>\n",
              "      <td>2017-09-26 21:22:32.750000128</td>\n",
              "      <td>2017-10-04 00:00:00</td>\n",
              "      <td>11437.000000</td>\n",
              "      <td>11437.000000</td>\n",
              "      <td>-23.588086</td>\n",
              "      <td>-48.068549</td>\n",
              "    </tr>\n",
              "    <tr>\n",
              "      <th>50%</th>\n",
              "      <td>1.000000</td>\n",
              "      <td>74.990000</td>\n",
              "      <td>16.280000</td>\n",
              "      <td>51.000000</td>\n",
              "      <td>610.000000</td>\n",
              "      <td>2.000000</td>\n",
              "      <td>700.000000</td>\n",
              "      <td>25.000000</td>\n",
              "      <td>13.000000</td>\n",
              "      <td>20.000000</td>\n",
              "      <td>2018-01-19 11:01:51</td>\n",
              "      <td>2018-01-19 17:18:22</td>\n",
              "      <td>2018-01-24 18:48:43</td>\n",
              "      <td>2018-02-02 20:42:18</td>\n",
              "      <td>2018-02-15 00:00:00</td>\n",
              "      <td>24436.000000</td>\n",
              "      <td>24436.000000</td>\n",
              "      <td>-22.920643</td>\n",
              "      <td>-46.639559</td>\n",
              "    </tr>\n",
              "    <tr>\n",
              "      <th>75%</th>\n",
              "      <td>1.000000</td>\n",
              "      <td>134.900000</td>\n",
              "      <td>21.160000</td>\n",
              "      <td>57.000000</td>\n",
              "      <td>982.000000</td>\n",
              "      <td>3.000000</td>\n",
              "      <td>1800.000000</td>\n",
              "      <td>38.000000</td>\n",
              "      <td>20.000000</td>\n",
              "      <td>30.000000</td>\n",
              "      <td>2018-05-04 13:56:23</td>\n",
              "      <td>2018-05-04 18:15:54</td>\n",
              "      <td>2018-05-08 13:15:00</td>\n",
              "      <td>2018-05-15 19:49:37.500000</td>\n",
              "      <td>2018-05-25 00:00:00</td>\n",
              "      <td>59848.750000</td>\n",
              "      <td>59848.750000</td>\n",
              "      <td>-20.069626</td>\n",
              "      <td>-43.694505</td>\n",
              "    </tr>\n",
              "    <tr>\n",
              "      <th>max</th>\n",
              "      <td>21.000000</td>\n",
              "      <td>6735.000000</td>\n",
              "      <td>409.680000</td>\n",
              "      <td>76.000000</td>\n",
              "      <td>3992.000000</td>\n",
              "      <td>20.000000</td>\n",
              "      <td>40425.000000</td>\n",
              "      <td>105.000000</td>\n",
              "      <td>105.000000</td>\n",
              "      <td>118.000000</td>\n",
              "      <td>2018-10-17 17:30:18</td>\n",
              "      <td>2018-09-03 17:40:06</td>\n",
              "      <td>2018-09-11 19:48:28</td>\n",
              "      <td>2018-10-17 13:22:46</td>\n",
              "      <td>2018-11-12 00:00:00</td>\n",
              "      <td>99990.000000</td>\n",
              "      <td>99990.000000</td>\n",
              "      <td>45.065933</td>\n",
              "      <td>9.341528</td>\n",
              "    </tr>\n",
              "    <tr>\n",
              "      <th>std</th>\n",
              "      <td>0.704493</td>\n",
              "      <td>183.869641</td>\n",
              "      <td>15.787906</td>\n",
              "      <td>9.954789</td>\n",
              "      <td>648.350549</td>\n",
              "      <td>1.709434</td>\n",
              "      <td>3758.442736</td>\n",
              "      <td>16.169183</td>\n",
              "      <td>13.430369</td>\n",
              "      <td>11.733221</td>\n",
              "      <td>NaN</td>\n",
              "      <td>NaN</td>\n",
              "      <td>NaN</td>\n",
              "      <td>NaN</td>\n",
              "      <td>NaN</td>\n",
              "      <td>29863.767153</td>\n",
              "      <td>29863.767153</td>\n",
              "      <td>5.558591</td>\n",
              "      <td>4.031736</td>\n",
              "    </tr>\n",
              "  </tbody>\n",
              "</table>\n",
              "</div>"
            ],
            "text/plain": [
              "       order_item_id          price  freight_value  product_name_length  \\\n",
              "count  116773.000000  116773.000000  116773.000000        116773.000000   \n",
              "mean        1.198342     120.804169      20.005671            48.767609   \n",
              "min         1.000000       0.850000       0.000000             5.000000   \n",
              "25%         1.000000      39.900000      13.080000            43.000000   \n",
              "50%         1.000000      74.990000      16.280000            51.000000   \n",
              "75%         1.000000     134.900000      21.160000            57.000000   \n",
              "max        21.000000    6735.000000     409.680000            76.000000   \n",
              "std         0.704493     183.869641      15.787906             9.954789   \n",
              "\n",
              "       product_description_length  product_photos_qty  product_weight_g  \\\n",
              "count               116773.000000       116773.000000     116773.000000   \n",
              "mean                   788.547258            2.206743       2098.879090   \n",
              "min                      4.000000            1.000000          0.000000   \n",
              "25%                    348.000000            1.000000        300.000000   \n",
              "50%                    610.000000            2.000000        700.000000   \n",
              "75%                    982.000000            3.000000       1800.000000   \n",
              "max                   3992.000000           20.000000      40425.000000   \n",
              "std                    648.350549            1.709434       3758.442736   \n",
              "\n",
              "       product_length_cm  product_height_cm  product_width_cm  \\\n",
              "count      116773.000000      116773.000000     116773.000000   \n",
              "mean           30.175010          16.591308         23.014856   \n",
              "min             7.000000           2.000000          6.000000   \n",
              "25%            18.000000           8.000000         15.000000   \n",
              "50%            25.000000          13.000000         20.000000   \n",
              "75%            38.000000          20.000000         30.000000   \n",
              "max           105.000000         105.000000        118.000000   \n",
              "std            16.169183          13.430369         11.733221   \n",
              "\n",
              "            order_purchase_timestamp              order_approved_at  \\\n",
              "count                         117568                         117403   \n",
              "mean   2017-12-31 13:40:14.162161920  2017-12-31 23:52:37.391165184   \n",
              "min              2016-09-04 21:15:19            2016-09-15 12:16:38   \n",
              "25%              2017-09-13 14:55:13     2017-09-13 22:47:10.500000   \n",
              "50%              2018-01-19 11:01:51            2018-01-19 17:18:22   \n",
              "75%              2018-05-04 13:56:23            2018-05-04 18:15:54   \n",
              "max              2018-10-17 17:30:18            2018-09-03 17:40:06   \n",
              "std                              NaN                            NaN   \n",
              "\n",
              "        order_delivered_carrier_date  order_delivered_customer_date  \\\n",
              "count                         115547                         114240   \n",
              "mean   2018-01-05 03:40:58.584783360  2018-01-14 14:56:10.651540992   \n",
              "min              2016-10-08 10:34:01            2016-10-11 13:46:32   \n",
              "25%              2017-09-18 21:40:37  2017-09-26 21:22:32.750000128   \n",
              "50%              2018-01-24 18:48:43            2018-02-02 20:42:18   \n",
              "75%              2018-05-08 13:15:00     2018-05-15 19:49:37.500000   \n",
              "max              2018-09-11 19:48:28            2018-10-17 13:22:46   \n",
              "std                              NaN                            NaN   \n",
              "\n",
              "       order_estimated_delivery_date  customer_zip_code_prefix  \\\n",
              "count                         117568             117262.000000   \n",
              "mean   2018-01-24 09:58:57.778987264              35294.677909   \n",
              "min              2016-09-30 00:00:00               1003.000000   \n",
              "25%              2017-10-04 00:00:00              11437.000000   \n",
              "50%              2018-02-15 00:00:00              24436.000000   \n",
              "75%              2018-05-25 00:00:00              59848.750000   \n",
              "max              2018-11-12 00:00:00              99990.000000   \n",
              "std                              NaN              29863.767153   \n",
              "\n",
              "       geolocation_zip_code_prefix  geolocation_lat  geolocation_lng  \n",
              "count                117262.000000    117262.000000    117262.000000  \n",
              "mean                  35294.677909       -21.193908       -46.215771  \n",
              "min                    1003.000000       -33.690972       -72.670987  \n",
              "25%                   11437.000000       -23.588086       -48.068549  \n",
              "50%                   24436.000000       -22.920643       -46.639559  \n",
              "75%                   59848.750000       -20.069626       -43.694505  \n",
              "max                   99990.000000        45.065933         9.341528  \n",
              "std                   29863.767153         5.558591         4.031736  "
            ]
          },
          "execution_count": 70,
          "metadata": {},
          "output_type": "execute_result"
        }
      ],
      "source": [
        "all_data.describe()"
      ]
    },
    {
      "cell_type": "code",
      "execution_count": 78,
      "id": "099ec517",
      "metadata": {},
      "outputs": [
        {
          "data": {
            "text/html": [
              "<div>\n",
              "<style scoped>\n",
              "    .dataframe tbody tr th:only-of-type {\n",
              "        vertical-align: middle;\n",
              "    }\n",
              "\n",
              "    .dataframe tbody tr th {\n",
              "        vertical-align: top;\n",
              "    }\n",
              "\n",
              "    .dataframe thead th {\n",
              "        text-align: right;\n",
              "    }\n",
              "</style>\n",
              "<table border=\"1\" class=\"dataframe\">\n",
              "  <thead>\n",
              "    <tr style=\"text-align: right;\">\n",
              "      <th></th>\n",
              "      <th>product_category_name_english</th>\n",
              "      <th>order_count</th>\n",
              "    </tr>\n",
              "  </thead>\n",
              "  <tbody>\n",
              "    <tr>\n",
              "      <th>7</th>\n",
              "      <td>bed_bath_table</td>\n",
              "      <td>9534</td>\n",
              "    </tr>\n",
              "    <tr>\n",
              "      <th>43</th>\n",
              "      <td>health_beauty</td>\n",
              "      <td>8970</td>\n",
              "    </tr>\n",
              "    <tr>\n",
              "      <th>65</th>\n",
              "      <td>sports_leisure</td>\n",
              "      <td>7803</td>\n",
              "    </tr>\n",
              "    <tr>\n",
              "      <th>15</th>\n",
              "      <td>computers_accessories</td>\n",
              "      <td>6711</td>\n",
              "    </tr>\n",
              "    <tr>\n",
              "      <th>39</th>\n",
              "      <td>furniture_decor</td>\n",
              "      <td>6580</td>\n",
              "    </tr>\n",
              "  </tbody>\n",
              "</table>\n",
              "</div>"
            ],
            "text/plain": [
              "   product_category_name_english  order_count\n",
              "7                 bed_bath_table         9534\n",
              "43                 health_beauty         8970\n",
              "65                sports_leisure         7803\n",
              "15         computers_accessories         6711\n",
              "39               furniture_decor         6580"
            ]
          },
          "execution_count": 78,
          "metadata": {},
          "output_type": "execute_result"
        }
      ],
      "source": [
        "# Jumlah pesanan per kategori produk\n",
        "order_category_df = all_data.groupby('product_category_name_english')['order_id'].nunique().reset_index(name='order_count')\n",
        "\n",
        "# Sort untuk kategori tertinggi dan terendah\n",
        "best_categories = order_category_df.sort_values(by='order_count', ascending=False).head(5)\n",
        "best_categories"
      ]
    },
    {
      "cell_type": "code",
      "execution_count": 79,
      "id": "5d0f90c4",
      "metadata": {},
      "outputs": [
        {
          "data": {
            "text/html": [
              "<div>\n",
              "<style scoped>\n",
              "    .dataframe tbody tr th:only-of-type {\n",
              "        vertical-align: middle;\n",
              "    }\n",
              "\n",
              "    .dataframe tbody tr th {\n",
              "        vertical-align: top;\n",
              "    }\n",
              "\n",
              "    .dataframe thead th {\n",
              "        text-align: right;\n",
              "    }\n",
              "</style>\n",
              "<table border=\"1\" class=\"dataframe\">\n",
              "  <thead>\n",
              "    <tr style=\"text-align: right;\">\n",
              "      <th></th>\n",
              "      <th>product_category_name_english</th>\n",
              "      <th>order_count</th>\n",
              "    </tr>\n",
              "  </thead>\n",
              "  <tbody>\n",
              "    <tr>\n",
              "      <th>61</th>\n",
              "      <td>security_and_services</td>\n",
              "      <td>2</td>\n",
              "    </tr>\n",
              "    <tr>\n",
              "      <th>29</th>\n",
              "      <td>fashion_childrens_clothes</td>\n",
              "      <td>8</td>\n",
              "    </tr>\n",
              "    <tr>\n",
              "      <th>11</th>\n",
              "      <td>cds_dvds_musicals</td>\n",
              "      <td>12</td>\n",
              "    </tr>\n",
              "    <tr>\n",
              "      <th>52</th>\n",
              "      <td>la_cuisine</td>\n",
              "      <td>13</td>\n",
              "    </tr>\n",
              "    <tr>\n",
              "      <th>46</th>\n",
              "      <td>home_comfort_2</td>\n",
              "      <td>24</td>\n",
              "    </tr>\n",
              "  </tbody>\n",
              "</table>\n",
              "</div>"
            ],
            "text/plain": [
              "   product_category_name_english  order_count\n",
              "61         security_and_services            2\n",
              "29     fashion_childrens_clothes            8\n",
              "11             cds_dvds_musicals           12\n",
              "52                    la_cuisine           13\n",
              "46                home_comfort_2           24"
            ]
          },
          "execution_count": 79,
          "metadata": {},
          "output_type": "execute_result"
        }
      ],
      "source": [
        "worst_categories = order_category_df.sort_values(by='order_count', ascending=True).head(5)\n",
        "worst_categories"
      ]
    },
    {
      "cell_type": "code",
      "execution_count": 80,
      "id": "40eb2d8e",
      "metadata": {},
      "outputs": [
        {
          "name": "stdout",
          "output_type": "stream",
          "text": [
            "   geolocation_state  customer_count\n",
            "25                SP           40267\n",
            "18                RJ           12353\n",
            "10                MG           11248\n",
            "22                RS            5273\n",
            "17                PR            4871\n",
            "23                SC            3534\n",
            "4                 BA            3268\n",
            "7                 ES            1959\n",
            "8                 GO            1939\n",
            "6                 DF            1913\n",
            "15                PE            1605\n",
            "5                 CE            1310\n",
            "13                PA             946\n",
            "12                MT             875\n",
            "9                 MA             722\n",
            "11                MS             694\n",
            "14                PB             517\n",
            "16                PI             479\n",
            "19                RN             472\n",
            "1                 AL             400\n",
            "24                SE             341\n",
            "26                TO             272\n",
            "20                RO             238\n",
            "2                 AM             143\n",
            "0                 AC             116\n",
            "3                 AP              67\n",
            "21                RR              45\n"
          ]
        }
      ],
      "source": [
        "# Count Jumlah pelanggan setiap wilayah\n",
        "customer_geolocation_count = all_data.groupby('geolocation_state')['customer_unique_id'].nunique().reset_index(name='customer_count')\n",
        "# Sort untuk wilayah dengan pelanggan terbanyak dan terendah\n",
        "most_customers = customer_geolocation_count.sort_values(by='customer_count', ascending=False)\n",
        "print(most_customers)"
      ]
    },
    {
      "cell_type": "markdown",
      "id": "cdf81637",
      "metadata": {},
      "source": [
        "**Insight:**\n",
        "- Kategori \"bed bath services\" telah diidentifikasi sebagai kategori yang memiliki jumlah pesanan terbanyak.  \n",
        "- Kategori \"security and services\" telah diidentifikasi sebagai katogori yang memiliki jumlah pesanan terendah.  \n",
        "- Wilayah yang memiliki banyak pelanggan adalah SP atau Sao Paulo\n",
        "- Wilayah yang memiliki sedikit pelanggan adalah RJ atau Rio de Janeiro"
      ]
    },
    {
      "cell_type": "markdown",
      "id": "89323b8c",
      "metadata": {},
      "source": [
        "## Visualization & Explanatory Analysis"
      ]
    },
    {
      "cell_type": "markdown",
      "id": "1bfc9a0f",
      "metadata": {},
      "source": [
        "#### Question 1: Kategori produk apa dengan pesanan terbanyak dan terendah?"
      ]
    },
    {
      "cell_type": "code",
      "execution_count": 88,
      "id": "e5ab79bf",
      "metadata": {},
      "outputs": [
        {
          "data": {
            "application/vnd.plotly.v1+json": {
              "config": {
                "plotlyServerURL": "https://plot.ly"
              },
              "data": [
                {
                  "marker": {
                    "color": [
                      "#72BCD4",
                      "#D3D3D3",
                      "#D3D3D3",
                      "#D3D3D3",
                      "#D3D3D3"
                    ]
                  },
                  "name": "Best Categories",
                  "orientation": "h",
                  "type": "bar",
                  "x": {
                    "bdata": "PiUKI3seNxq0GQ==",
                    "dtype": "i2"
                  },
                  "xaxis": "x",
                  "y": [
                    "bed_bath_table",
                    "health_beauty",
                    "sports_leisure",
                    "computers_accessories",
                    "furniture_decor"
                  ],
                  "yaxis": "y"
                },
                {
                  "marker": {
                    "color": [
                      "#72BCD4",
                      "#D3D3D3",
                      "#D3D3D3",
                      "#D3D3D3",
                      "#D3D3D3"
                    ]
                  },
                  "name": "Worst Categories",
                  "orientation": "h",
                  "type": "bar",
                  "x": {
                    "bdata": "AggMDRg=",
                    "dtype": "i1"
                  },
                  "xaxis": "x2",
                  "y": [
                    "security_and_services",
                    "fashion_childrens_clothes",
                    "cds_dvds_musicals",
                    "la_cuisine",
                    "home_comfort_2"
                  ],
                  "yaxis": "y2"
                }
              ],
              "layout": {
                "annotations": [
                  {
                    "font": {
                      "size": 16
                    },
                    "showarrow": false,
                    "text": "Best Performing Categories",
                    "x": 0.225,
                    "xanchor": "center",
                    "xref": "paper",
                    "y": 1,
                    "yanchor": "bottom",
                    "yref": "paper"
                  },
                  {
                    "font": {
                      "size": 16
                    },
                    "showarrow": false,
                    "text": "Worst Performing Categories",
                    "x": 0.775,
                    "xanchor": "center",
                    "xref": "paper",
                    "y": 1,
                    "yanchor": "bottom",
                    "yref": "paper"
                  }
                ],
                "autosize": true,
                "font": {
                  "family": "Arial",
                  "size": 12
                },
                "height": 500,
                "margin": {
                  "b": 50,
                  "l": 50,
                  "r": 50,
                  "t": 80
                },
                "showlegend": false,
                "template": {
                  "data": {
                    "bar": [
                      {
                        "error_x": {
                          "color": "#2a3f5f"
                        },
                        "error_y": {
                          "color": "#2a3f5f"
                        },
                        "marker": {
                          "line": {
                            "color": "white",
                            "width": 0.5
                          },
                          "pattern": {
                            "fillmode": "overlay",
                            "size": 10,
                            "solidity": 0.2
                          }
                        },
                        "type": "bar"
                      }
                    ],
                    "barpolar": [
                      {
                        "marker": {
                          "line": {
                            "color": "white",
                            "width": 0.5
                          },
                          "pattern": {
                            "fillmode": "overlay",
                            "size": 10,
                            "solidity": 0.2
                          }
                        },
                        "type": "barpolar"
                      }
                    ],
                    "carpet": [
                      {
                        "aaxis": {
                          "endlinecolor": "#2a3f5f",
                          "gridcolor": "#C8D4E3",
                          "linecolor": "#C8D4E3",
                          "minorgridcolor": "#C8D4E3",
                          "startlinecolor": "#2a3f5f"
                        },
                        "baxis": {
                          "endlinecolor": "#2a3f5f",
                          "gridcolor": "#C8D4E3",
                          "linecolor": "#C8D4E3",
                          "minorgridcolor": "#C8D4E3",
                          "startlinecolor": "#2a3f5f"
                        },
                        "type": "carpet"
                      }
                    ],
                    "choropleth": [
                      {
                        "colorbar": {
                          "outlinewidth": 0,
                          "ticks": ""
                        },
                        "type": "choropleth"
                      }
                    ],
                    "contour": [
                      {
                        "colorbar": {
                          "outlinewidth": 0,
                          "ticks": ""
                        },
                        "colorscale": [
                          [
                            0,
                            "#0d0887"
                          ],
                          [
                            0.1111111111111111,
                            "#46039f"
                          ],
                          [
                            0.2222222222222222,
                            "#7201a8"
                          ],
                          [
                            0.3333333333333333,
                            "#9c179e"
                          ],
                          [
                            0.4444444444444444,
                            "#bd3786"
                          ],
                          [
                            0.5555555555555556,
                            "#d8576b"
                          ],
                          [
                            0.6666666666666666,
                            "#ed7953"
                          ],
                          [
                            0.7777777777777778,
                            "#fb9f3a"
                          ],
                          [
                            0.8888888888888888,
                            "#fdca26"
                          ],
                          [
                            1,
                            "#f0f921"
                          ]
                        ],
                        "type": "contour"
                      }
                    ],
                    "contourcarpet": [
                      {
                        "colorbar": {
                          "outlinewidth": 0,
                          "ticks": ""
                        },
                        "type": "contourcarpet"
                      }
                    ],
                    "heatmap": [
                      {
                        "colorbar": {
                          "outlinewidth": 0,
                          "ticks": ""
                        },
                        "colorscale": [
                          [
                            0,
                            "#0d0887"
                          ],
                          [
                            0.1111111111111111,
                            "#46039f"
                          ],
                          [
                            0.2222222222222222,
                            "#7201a8"
                          ],
                          [
                            0.3333333333333333,
                            "#9c179e"
                          ],
                          [
                            0.4444444444444444,
                            "#bd3786"
                          ],
                          [
                            0.5555555555555556,
                            "#d8576b"
                          ],
                          [
                            0.6666666666666666,
                            "#ed7953"
                          ],
                          [
                            0.7777777777777778,
                            "#fb9f3a"
                          ],
                          [
                            0.8888888888888888,
                            "#fdca26"
                          ],
                          [
                            1,
                            "#f0f921"
                          ]
                        ],
                        "type": "heatmap"
                      }
                    ],
                    "histogram": [
                      {
                        "marker": {
                          "pattern": {
                            "fillmode": "overlay",
                            "size": 10,
                            "solidity": 0.2
                          }
                        },
                        "type": "histogram"
                      }
                    ],
                    "histogram2d": [
                      {
                        "colorbar": {
                          "outlinewidth": 0,
                          "ticks": ""
                        },
                        "colorscale": [
                          [
                            0,
                            "#0d0887"
                          ],
                          [
                            0.1111111111111111,
                            "#46039f"
                          ],
                          [
                            0.2222222222222222,
                            "#7201a8"
                          ],
                          [
                            0.3333333333333333,
                            "#9c179e"
                          ],
                          [
                            0.4444444444444444,
                            "#bd3786"
                          ],
                          [
                            0.5555555555555556,
                            "#d8576b"
                          ],
                          [
                            0.6666666666666666,
                            "#ed7953"
                          ],
                          [
                            0.7777777777777778,
                            "#fb9f3a"
                          ],
                          [
                            0.8888888888888888,
                            "#fdca26"
                          ],
                          [
                            1,
                            "#f0f921"
                          ]
                        ],
                        "type": "histogram2d"
                      }
                    ],
                    "histogram2dcontour": [
                      {
                        "colorbar": {
                          "outlinewidth": 0,
                          "ticks": ""
                        },
                        "colorscale": [
                          [
                            0,
                            "#0d0887"
                          ],
                          [
                            0.1111111111111111,
                            "#46039f"
                          ],
                          [
                            0.2222222222222222,
                            "#7201a8"
                          ],
                          [
                            0.3333333333333333,
                            "#9c179e"
                          ],
                          [
                            0.4444444444444444,
                            "#bd3786"
                          ],
                          [
                            0.5555555555555556,
                            "#d8576b"
                          ],
                          [
                            0.6666666666666666,
                            "#ed7953"
                          ],
                          [
                            0.7777777777777778,
                            "#fb9f3a"
                          ],
                          [
                            0.8888888888888888,
                            "#fdca26"
                          ],
                          [
                            1,
                            "#f0f921"
                          ]
                        ],
                        "type": "histogram2dcontour"
                      }
                    ],
                    "mesh3d": [
                      {
                        "colorbar": {
                          "outlinewidth": 0,
                          "ticks": ""
                        },
                        "type": "mesh3d"
                      }
                    ],
                    "parcoords": [
                      {
                        "line": {
                          "colorbar": {
                            "outlinewidth": 0,
                            "ticks": ""
                          }
                        },
                        "type": "parcoords"
                      }
                    ],
                    "pie": [
                      {
                        "automargin": true,
                        "type": "pie"
                      }
                    ],
                    "scatter": [
                      {
                        "fillpattern": {
                          "fillmode": "overlay",
                          "size": 10,
                          "solidity": 0.2
                        },
                        "type": "scatter"
                      }
                    ],
                    "scatter3d": [
                      {
                        "line": {
                          "colorbar": {
                            "outlinewidth": 0,
                            "ticks": ""
                          }
                        },
                        "marker": {
                          "colorbar": {
                            "outlinewidth": 0,
                            "ticks": ""
                          }
                        },
                        "type": "scatter3d"
                      }
                    ],
                    "scattercarpet": [
                      {
                        "marker": {
                          "colorbar": {
                            "outlinewidth": 0,
                            "ticks": ""
                          }
                        },
                        "type": "scattercarpet"
                      }
                    ],
                    "scattergeo": [
                      {
                        "marker": {
                          "colorbar": {
                            "outlinewidth": 0,
                            "ticks": ""
                          }
                        },
                        "type": "scattergeo"
                      }
                    ],
                    "scattergl": [
                      {
                        "marker": {
                          "colorbar": {
                            "outlinewidth": 0,
                            "ticks": ""
                          }
                        },
                        "type": "scattergl"
                      }
                    ],
                    "scattermap": [
                      {
                        "marker": {
                          "colorbar": {
                            "outlinewidth": 0,
                            "ticks": ""
                          }
                        },
                        "type": "scattermap"
                      }
                    ],
                    "scattermapbox": [
                      {
                        "marker": {
                          "colorbar": {
                            "outlinewidth": 0,
                            "ticks": ""
                          }
                        },
                        "type": "scattermapbox"
                      }
                    ],
                    "scatterpolar": [
                      {
                        "marker": {
                          "colorbar": {
                            "outlinewidth": 0,
                            "ticks": ""
                          }
                        },
                        "type": "scatterpolar"
                      }
                    ],
                    "scatterpolargl": [
                      {
                        "marker": {
                          "colorbar": {
                            "outlinewidth": 0,
                            "ticks": ""
                          }
                        },
                        "type": "scatterpolargl"
                      }
                    ],
                    "scatterternary": [
                      {
                        "marker": {
                          "colorbar": {
                            "outlinewidth": 0,
                            "ticks": ""
                          }
                        },
                        "type": "scatterternary"
                      }
                    ],
                    "surface": [
                      {
                        "colorbar": {
                          "outlinewidth": 0,
                          "ticks": ""
                        },
                        "colorscale": [
                          [
                            0,
                            "#0d0887"
                          ],
                          [
                            0.1111111111111111,
                            "#46039f"
                          ],
                          [
                            0.2222222222222222,
                            "#7201a8"
                          ],
                          [
                            0.3333333333333333,
                            "#9c179e"
                          ],
                          [
                            0.4444444444444444,
                            "#bd3786"
                          ],
                          [
                            0.5555555555555556,
                            "#d8576b"
                          ],
                          [
                            0.6666666666666666,
                            "#ed7953"
                          ],
                          [
                            0.7777777777777778,
                            "#fb9f3a"
                          ],
                          [
                            0.8888888888888888,
                            "#fdca26"
                          ],
                          [
                            1,
                            "#f0f921"
                          ]
                        ],
                        "type": "surface"
                      }
                    ],
                    "table": [
                      {
                        "cells": {
                          "fill": {
                            "color": "#EBF0F8"
                          },
                          "line": {
                            "color": "white"
                          }
                        },
                        "header": {
                          "fill": {
                            "color": "#C8D4E3"
                          },
                          "line": {
                            "color": "white"
                          }
                        },
                        "type": "table"
                      }
                    ]
                  },
                  "layout": {
                    "annotationdefaults": {
                      "arrowcolor": "#2a3f5f",
                      "arrowhead": 0,
                      "arrowwidth": 1
                    },
                    "autotypenumbers": "strict",
                    "coloraxis": {
                      "colorbar": {
                        "outlinewidth": 0,
                        "ticks": ""
                      }
                    },
                    "colorscale": {
                      "diverging": [
                        [
                          0,
                          "#8e0152"
                        ],
                        [
                          0.1,
                          "#c51b7d"
                        ],
                        [
                          0.2,
                          "#de77ae"
                        ],
                        [
                          0.3,
                          "#f1b6da"
                        ],
                        [
                          0.4,
                          "#fde0ef"
                        ],
                        [
                          0.5,
                          "#f7f7f7"
                        ],
                        [
                          0.6,
                          "#e6f5d0"
                        ],
                        [
                          0.7,
                          "#b8e186"
                        ],
                        [
                          0.8,
                          "#7fbc41"
                        ],
                        [
                          0.9,
                          "#4d9221"
                        ],
                        [
                          1,
                          "#276419"
                        ]
                      ],
                      "sequential": [
                        [
                          0,
                          "#0d0887"
                        ],
                        [
                          0.1111111111111111,
                          "#46039f"
                        ],
                        [
                          0.2222222222222222,
                          "#7201a8"
                        ],
                        [
                          0.3333333333333333,
                          "#9c179e"
                        ],
                        [
                          0.4444444444444444,
                          "#bd3786"
                        ],
                        [
                          0.5555555555555556,
                          "#d8576b"
                        ],
                        [
                          0.6666666666666666,
                          "#ed7953"
                        ],
                        [
                          0.7777777777777778,
                          "#fb9f3a"
                        ],
                        [
                          0.8888888888888888,
                          "#fdca26"
                        ],
                        [
                          1,
                          "#f0f921"
                        ]
                      ],
                      "sequentialminus": [
                        [
                          0,
                          "#0d0887"
                        ],
                        [
                          0.1111111111111111,
                          "#46039f"
                        ],
                        [
                          0.2222222222222222,
                          "#7201a8"
                        ],
                        [
                          0.3333333333333333,
                          "#9c179e"
                        ],
                        [
                          0.4444444444444444,
                          "#bd3786"
                        ],
                        [
                          0.5555555555555556,
                          "#d8576b"
                        ],
                        [
                          0.6666666666666666,
                          "#ed7953"
                        ],
                        [
                          0.7777777777777778,
                          "#fb9f3a"
                        ],
                        [
                          0.8888888888888888,
                          "#fdca26"
                        ],
                        [
                          1,
                          "#f0f921"
                        ]
                      ]
                    },
                    "colorway": [
                      "#636efa",
                      "#EF553B",
                      "#00cc96",
                      "#ab63fa",
                      "#FFA15A",
                      "#19d3f3",
                      "#FF6692",
                      "#B6E880",
                      "#FF97FF",
                      "#FECB52"
                    ],
                    "font": {
                      "color": "#2a3f5f"
                    },
                    "geo": {
                      "bgcolor": "white",
                      "lakecolor": "white",
                      "landcolor": "white",
                      "showlakes": true,
                      "showland": true,
                      "subunitcolor": "#C8D4E3"
                    },
                    "hoverlabel": {
                      "align": "left"
                    },
                    "hovermode": "closest",
                    "mapbox": {
                      "style": "light"
                    },
                    "paper_bgcolor": "white",
                    "plot_bgcolor": "white",
                    "polar": {
                      "angularaxis": {
                        "gridcolor": "#EBF0F8",
                        "linecolor": "#EBF0F8",
                        "ticks": ""
                      },
                      "bgcolor": "white",
                      "radialaxis": {
                        "gridcolor": "#EBF0F8",
                        "linecolor": "#EBF0F8",
                        "ticks": ""
                      }
                    },
                    "scene": {
                      "xaxis": {
                        "backgroundcolor": "white",
                        "gridcolor": "#DFE8F3",
                        "gridwidth": 2,
                        "linecolor": "#EBF0F8",
                        "showbackground": true,
                        "ticks": "",
                        "zerolinecolor": "#EBF0F8"
                      },
                      "yaxis": {
                        "backgroundcolor": "white",
                        "gridcolor": "#DFE8F3",
                        "gridwidth": 2,
                        "linecolor": "#EBF0F8",
                        "showbackground": true,
                        "ticks": "",
                        "zerolinecolor": "#EBF0F8"
                      },
                      "zaxis": {
                        "backgroundcolor": "white",
                        "gridcolor": "#DFE8F3",
                        "gridwidth": 2,
                        "linecolor": "#EBF0F8",
                        "showbackground": true,
                        "ticks": "",
                        "zerolinecolor": "#EBF0F8"
                      }
                    },
                    "shapedefaults": {
                      "line": {
                        "color": "#2a3f5f"
                      }
                    },
                    "ternary": {
                      "aaxis": {
                        "gridcolor": "#DFE8F3",
                        "linecolor": "#A2B1C6",
                        "ticks": ""
                      },
                      "baxis": {
                        "gridcolor": "#DFE8F3",
                        "linecolor": "#A2B1C6",
                        "ticks": ""
                      },
                      "bgcolor": "white",
                      "caxis": {
                        "gridcolor": "#DFE8F3",
                        "linecolor": "#A2B1C6",
                        "ticks": ""
                      }
                    },
                    "title": {
                      "x": 0.05
                    },
                    "xaxis": {
                      "automargin": true,
                      "gridcolor": "#EBF0F8",
                      "linecolor": "#EBF0F8",
                      "ticks": "",
                      "title": {
                        "standoff": 15
                      },
                      "zerolinecolor": "#EBF0F8",
                      "zerolinewidth": 2
                    },
                    "yaxis": {
                      "automargin": true,
                      "gridcolor": "#EBF0F8",
                      "linecolor": "#EBF0F8",
                      "ticks": "",
                      "title": {
                        "standoff": 15
                      },
                      "zerolinecolor": "#EBF0F8",
                      "zerolinewidth": 2
                    }
                  }
                },
                "title": {
                  "text": "Best and Worst Performing Categories by Order Count"
                },
                "width": 1500,
                "xaxis": {
                  "anchor": "y",
                  "domain": [
                    0,
                    0.45
                  ],
                  "title": {
                    "text": "Jumlah Pesanan"
                  }
                },
                "xaxis2": {
                  "anchor": "y2",
                  "domain": [
                    0.55,
                    1
                  ],
                  "title": {
                    "text": "Jumlah Pesanan"
                  }
                },
                "yaxis": {
                  "anchor": "x",
                  "domain": [
                    0,
                    1
                  ]
                },
                "yaxis2": {
                  "anchor": "x2",
                  "domain": [
                    0,
                    1
                  ]
                }
              }
            }
          },
          "metadata": {},
          "output_type": "display_data"
        }
      ],
      "source": [
        "from plotly.subplots import make_subplots\n",
        "import plotly.graph_objects as go\n",
        "\n",
        "# Urutkan best_categories dari terbanyak ke terendah\n",
        "best_categories = best_categories.sort_values('order_count', ascending=False)\n",
        "\n",
        "# Urutkan worst_categories dari terendah ke tertinggi\n",
        "worst_categories = worst_categories.sort_values('order_count', ascending=True)\n",
        "\n",
        "# Create subplots with 1 row and 2 columns\n",
        "fig = make_subplots(rows=1, cols=2, \n",
        "                    subplot_titles=(\"Best Performing Categories\", \"Worst Performing Categories\"),\n",
        "                    specs=[[{\"type\": \"bar\"}, {\"type\": \"bar\"}]])\n",
        "\n",
        "# Add best categories bar chart\n",
        "fig.add_trace(\n",
        "    go.Bar(\n",
        "        x=best_categories['order_count'],\n",
        "        y=best_categories['product_category_name_english'],\n",
        "        marker_color=['#72BCD4'] + ['#D3D3D3'] * (len(best_categories) - 1),\n",
        "        orientation='h',\n",
        "        name='Best Categories'\n",
        "    ),\n",
        "    row=1, col=1\n",
        ")\n",
        "\n",
        "# Add worst categories bar chart\n",
        "fig.add_trace(\n",
        "    go.Bar(\n",
        "        x=worst_categories['order_count'],\n",
        "        y=worst_categories['product_category_name_english'],\n",
        "        marker_color=['#72BCD4'] + ['#D3D3D3'] * (len(worst_categories) - 1),\n",
        "        orientation='h',\n",
        "        name='Worst Categories'\n",
        "    ),\n",
        "    row=1, col=2\n",
        ")\n",
        "\n",
        "# Update layout\n",
        "fig.update_layout(\n",
        "    title_text=\"Best and Worst Performing Categories by Order Count\",\n",
        "    height=500,\n",
        "    width=1500,\n",
        "    autosize=True,\n",
        "    margin=dict(l=50, r=50, t=80, b=50),\n",
        "    showlegend=False,\n",
        "    template=\"plotly_white\",\n",
        "    font=dict(family=\"Arial\", size=12)\n",
        ")\n",
        "\n",
        "# Update axes\n",
        "fig.update_xaxes(title_text=\"Jumlah Pesanan\", row=1, col=1)\n",
        "fig.update_xaxes(title_text=\"Jumlah Pesanan\", row=1, col=2)\n",
        "fig.update_yaxes(title_text=None, row=1, col=1)\n",
        "fig.update_yaxes(title_text=None, row=1, col=2)\n",
        "\n",
        "fig.show()"
      ]
    }
  ],
  "metadata": {
    "colab": {
      "provenance": []
    },
    "kernelspec": {
      "display_name": "Python 3",
      "language": "python",
      "name": "python3"
    },
    "language_info": {
      "codemirror_mode": {
        "name": "ipython",
        "version": 3
      },
      "file_extension": ".py",
      "mimetype": "text/x-python",
      "name": "python",
      "nbconvert_exporter": "python",
      "pygments_lexer": "ipython3",
      "version": "3.11.0"
    }
  },
  "nbformat": 4,
  "nbformat_minor": 5
}
